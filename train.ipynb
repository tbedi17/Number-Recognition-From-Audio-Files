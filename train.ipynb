{
 "cells": [
  {
   "cell_type": "code",
   "execution_count": 1,
   "metadata": {},
   "outputs": [],
   "source": [
    "# !pip install --upgrade librosa\n",
    "# !pip install --upgrade pydub\n",
    "# !pip install --upgrade pip"
   ]
  },
  {
   "cell_type": "code",
   "execution_count": 2,
   "metadata": {},
   "outputs": [],
   "source": [
    "import glob\n",
    "import os\n",
    "from pydub import AudioSegment\n",
    "import pandas as pd\n",
    "import librosa\n",
    "import librosa.display\n",
    "import numpy as np\n",
    "from sklearn import preprocessing"
   ]
  },
  {
   "cell_type": "code",
   "execution_count": 3,
   "metadata": {},
   "outputs": [],
   "source": [
    "def get_features(file_name):\n",
    "    try:\n",
    "        audio, sample_rate = librosa.load(file_name, res_type='kaiser_fast') \n",
    "        mfccs = get_mfcc(audio, sample_rate)\n",
    "        flux = get_spectral_features(audio, sample_rate)[2]\n",
    "        chroma_features = get_chroma_features(audio, sample_rate)\n",
    "        return [mfccs, flux] + chroma_features\n",
    "    except Exception as e:\n",
    "        print(\"Error encountered while parsing file: \", file)\n",
    "        return None "
   ]
  },
  {
   "cell_type": "code",
   "execution_count": 4,
   "metadata": {},
   "outputs": [],
   "source": [
    "def get_all_features(folder):\n",
    "    folders = os.listdir(folder)\n",
    "    folders.sort()\n",
    "    all_features = []\n",
    "    for label, sub_dir in enumerate(folders): #label {0; 4}\n",
    "        for file_name in glob.glob(os.getcwd() + '/' + folder +'/' + sub_dir + '/*.wav'):\n",
    "#             print(\"Extracting file \", file_name)\n",
    "            try:\n",
    "                features = get_features(file_name)\n",
    "            except Exception as e:\n",
    "                print(\"Extraction error\")\n",
    "                continue\n",
    "            sub_strs= file_name.split('/')\n",
    "            all_features.append(features +  [label + 1]+[sub_strs[-1]])\n",
    "    data = pd.DataFrame(all_features, columns=['mfccs', 'flux', 'chroma_features1', 'chroma_features2', 'chroma_features3', 'class_label','author'])\n",
    "    return data"
   ]
  },
  {
   "cell_type": "code",
   "execution_count": 5,
   "metadata": {},
   "outputs": [],
   "source": [
    "def get_mfcc(audio, sr):\n",
    "    #Mel Frequency Cepstral Coefficient\n",
    "    mfccs = librosa.feature.mfcc(y=audio, sr=sr, n_mfcc=100)\n",
    "    mfccs_scaled = np.mean(mfccs.T,axis=0)\n",
    "    return mfccs_scaled"
   ]
  },
  {
   "cell_type": "code",
   "execution_count": 6,
   "metadata": {},
   "outputs": [],
   "source": [
    "def get_zero_crossing_rate(audio):\n",
    "    #ZERO_CROSSING_RATE\n",
    "    rate = librosa.feature.zero_crossing_rate(audio)\n",
    "    rate_scaled = np.mean(rate.T,axis=0)\n",
    "    return rate_scaled"
   ]
  },
  {
   "cell_type": "code",
   "execution_count": 7,
   "metadata": {},
   "outputs": [],
   "source": [
    "def get_spectral_features(audio, sr):\n",
    "    sp = librosa.feature.spectral_centroid(audio)\n",
    "    S, phase = librosa.magphase(librosa.stft(audio))\n",
    "    a = librosa.feature.spectral_rolloff(S=S, sr=sr)\n",
    "    onset_env = librosa.onset.onset_strength(y=audio, sr=sr)\n",
    "    onset_env.shape = (onset_env.shape[0], 1)\n",
    "    sp_scaled = np.mean(sp.T,axis=0)\n",
    "    a_scaled = np.mean(a.T,axis=0)\n",
    "    onset_env_scaled = np.mean(onset_env,axis=0)\n",
    "    return [sp_scaled, a_scaled, onset_env_scaled]"
   ]
  },
  {
   "cell_type": "code",
   "execution_count": 8,
   "metadata": {},
   "outputs": [],
   "source": [
    "def get_chroma_features(audio, sr):\n",
    "    chroma_stft = librosa.feature.chroma_stft(y=audio, sr=sr)\n",
    "    chroma_cens = librosa.feature.chroma_cens(y=audio, sr=sr)\n",
    "    chroma_cq = librosa.feature.chroma_cqt(y=audio, sr=sr)\n",
    "    chroma_stft_scaled = np.mean(chroma_stft.T,axis=0)\n",
    "    chroma_cens_scaled = np.mean(chroma_cens.T,axis=0)\n",
    "    chroma_cq_scaled = np.mean(chroma_cq.T,axis=0)\n",
    "    return [chroma_stft_scaled, chroma_cens_scaled, chroma_cq_scaled]"
   ]
  },
  {
   "cell_type": "markdown",
   "metadata": {},
   "source": [
    " "
   ]
  },
  {
   "cell_type": "code",
   "execution_count": 9,
   "metadata": {
    "scrolled": false
   },
   "outputs": [
    {
     "data": {
      "text/html": [
       "<div>\n",
       "<style scoped>\n",
       "    .dataframe tbody tr th:only-of-type {\n",
       "        vertical-align: middle;\n",
       "    }\n",
       "\n",
       "    .dataframe tbody tr th {\n",
       "        vertical-align: top;\n",
       "    }\n",
       "\n",
       "    .dataframe thead th {\n",
       "        text-align: right;\n",
       "    }\n",
       "</style>\n",
       "<table border=\"1\" class=\"dataframe\">\n",
       "  <thead>\n",
       "    <tr style=\"text-align: right;\">\n",
       "      <th></th>\n",
       "      <th>mfccs</th>\n",
       "      <th>flux</th>\n",
       "      <th>chroma_features1</th>\n",
       "      <th>chroma_features2</th>\n",
       "      <th>chroma_features3</th>\n",
       "      <th>class_label</th>\n",
       "      <th>author</th>\n",
       "    </tr>\n",
       "  </thead>\n",
       "  <tbody>\n",
       "    <tr>\n",
       "      <td>0</td>\n",
       "      <td>[-524.52057, 52.767735, 2.273679, 35.936493, 6...</td>\n",
       "      <td>[1.530465]</td>\n",
       "      <td>[0.5613639, 0.51607424, 0.4942565, 0.559985, 0...</td>\n",
       "      <td>[0.36901940466972843, 0.2956498396853704, 0.31...</td>\n",
       "      <td>[0.73921776, 0.6329696, 0.6403303, 0.6548654, ...</td>\n",
       "      <td>1</td>\n",
       "      <td>zurab-khut-1c-new.wav</td>\n",
       "    </tr>\n",
       "    <tr>\n",
       "      <td>1</td>\n",
       "      <td>[-375.04742, 71.76099, -9.058271, 58.62941, -2...</td>\n",
       "      <td>[1.567517]</td>\n",
       "      <td>[0.43075806, 0.71236825, 0.5354362, 0.37864283...</td>\n",
       "      <td>[0.2824099578816442, 0.2805342458267515, 0.207...</td>\n",
       "      <td>[0.6885597, 0.6979703, 0.56097203, 0.63815755,...</td>\n",
       "      <td>1</td>\n",
       "      <td>aleksandre-pert-1a.wav</td>\n",
       "    </tr>\n",
       "    <tr>\n",
       "      <td>2</td>\n",
       "      <td>[-602.8608, 40.34575, 19.960438, 24.787498, 6....</td>\n",
       "      <td>[1.0779346]</td>\n",
       "      <td>[0.5120637, 0.4240948, 0.37835118, 0.40419602,...</td>\n",
       "      <td>[0.386308371152053, 0.2761394137069292, 0.2321...</td>\n",
       "      <td>[0.73146373, 0.547114, 0.52066433, 0.5054258, ...</td>\n",
       "      <td>1</td>\n",
       "      <td>shota-noza-1c.wav</td>\n",
       "    </tr>\n",
       "    <tr>\n",
       "      <td>3</td>\n",
       "      <td>[-549.5745, 47.821518, -18.677393, 27.991554, ...</td>\n",
       "      <td>[1.7496176]</td>\n",
       "      <td>[0.48344243, 0.4247605, 0.31991082, 0.27700663...</td>\n",
       "      <td>[0.23877964415573058, 0.24710025871539226, 0.2...</td>\n",
       "      <td>[0.5377745, 0.55522126, 0.5620581, 0.51723933,...</td>\n",
       "      <td>1</td>\n",
       "      <td>aleksandre-pert-1-new.wav</td>\n",
       "    </tr>\n",
       "    <tr>\n",
       "      <td>4</td>\n",
       "      <td>[-551.16956, 59.801514, -0.14260375, 24.958803...</td>\n",
       "      <td>[1.3302921]</td>\n",
       "      <td>[0.3357782, 0.3583633, 0.372898, 0.32006225, 0...</td>\n",
       "      <td>[0.3013156769196653, 0.2589461289581806, 0.298...</td>\n",
       "      <td>[0.62065524, 0.5347672, 0.59509873, 0.5396492,...</td>\n",
       "      <td>1</td>\n",
       "      <td>levan-gela-1j.wav</td>\n",
       "    </tr>\n",
       "    <tr>\n",
       "      <td>...</td>\n",
       "      <td>...</td>\n",
       "      <td>...</td>\n",
       "      <td>...</td>\n",
       "      <td>...</td>\n",
       "      <td>...</td>\n",
       "      <td>...</td>\n",
       "      <td>...</td>\n",
       "    </tr>\n",
       "    <tr>\n",
       "      <td>928</td>\n",
       "      <td>[-428.7131, 72.103806, 8.8743925, 34.941143, 1...</td>\n",
       "      <td>[1.2077314]</td>\n",
       "      <td>[0.33085436, 0.36756566, 0.45109984, 0.3520728...</td>\n",
       "      <td>[0.2891750401201622, 0.2933941475703626, 0.332...</td>\n",
       "      <td>[0.5578847, 0.56241864, 0.58177984, 0.54885334...</td>\n",
       "      <td>5</td>\n",
       "      <td>nika-onia-5c.wav</td>\n",
       "    </tr>\n",
       "    <tr>\n",
       "      <td>929</td>\n",
       "      <td>[-505.51352, 74.166504, 19.460085, 22.2807, -2...</td>\n",
       "      <td>[0.87001157]</td>\n",
       "      <td>[0.34257028, 0.39673063, 0.43497545, 0.3187953...</td>\n",
       "      <td>[0.2987257023857266, 0.29833079334143936, 0.25...</td>\n",
       "      <td>[0.61127925, 0.6083719, 0.5614367, 0.5630839, ...</td>\n",
       "      <td>5</td>\n",
       "      <td>levan-gela-5i.wav</td>\n",
       "    </tr>\n",
       "    <tr>\n",
       "      <td>930</td>\n",
       "      <td>[-353.27307, 102.400566, 6.734233, 49.48563, -...</td>\n",
       "      <td>[2.5484147]</td>\n",
       "      <td>[0.61872715, 0.6274767, 0.7156743, 0.65416723,...</td>\n",
       "      <td>[0.24468334748028872, 0.3216160909607349, 0.41...</td>\n",
       "      <td>[0.6220891, 0.7412361, 0.85163176, 0.8437252, ...</td>\n",
       "      <td>5</td>\n",
       "      <td>lasha-kiti-5a.wav</td>\n",
       "    </tr>\n",
       "    <tr>\n",
       "      <td>931</td>\n",
       "      <td>[-622.4822, 107.89334, 3.9235218, 20.481346, 0...</td>\n",
       "      <td>[1.3867838]</td>\n",
       "      <td>[0.4030363, 0.33613327, 0.31981707, 0.2961784,...</td>\n",
       "      <td>[0.3066639204790587, 0.28096365678488133, 0.25...</td>\n",
       "      <td>[0.59908, 0.5834185, 0.5612741, 0.50064546, 0....</td>\n",
       "      <td>5</td>\n",
       "      <td>devi-khos-5.wav</td>\n",
       "    </tr>\n",
       "    <tr>\n",
       "      <td>932</td>\n",
       "      <td>[-608.07245, 55.75549, 13.409108, 26.613298, -...</td>\n",
       "      <td>[1.1518781]</td>\n",
       "      <td>[0.4136846, 0.42799363, 0.36241728, 0.28455806...</td>\n",
       "      <td>[0.34315549763113784, 0.3470817818734792, 0.30...</td>\n",
       "      <td>[0.64930534, 0.6676238, 0.64083755, 0.61948955...</td>\n",
       "      <td>5</td>\n",
       "      <td>nino-chan-5a.wav</td>\n",
       "    </tr>\n",
       "  </tbody>\n",
       "</table>\n",
       "<p>933 rows × 7 columns</p>\n",
       "</div>"
      ],
      "text/plain": [
       "                                                 mfccs          flux  \\\n",
       "0    [-524.52057, 52.767735, 2.273679, 35.936493, 6...    [1.530465]   \n",
       "1    [-375.04742, 71.76099, -9.058271, 58.62941, -2...    [1.567517]   \n",
       "2    [-602.8608, 40.34575, 19.960438, 24.787498, 6....   [1.0779346]   \n",
       "3    [-549.5745, 47.821518, -18.677393, 27.991554, ...   [1.7496176]   \n",
       "4    [-551.16956, 59.801514, -0.14260375, 24.958803...   [1.3302921]   \n",
       "..                                                 ...           ...   \n",
       "928  [-428.7131, 72.103806, 8.8743925, 34.941143, 1...   [1.2077314]   \n",
       "929  [-505.51352, 74.166504, 19.460085, 22.2807, -2...  [0.87001157]   \n",
       "930  [-353.27307, 102.400566, 6.734233, 49.48563, -...   [2.5484147]   \n",
       "931  [-622.4822, 107.89334, 3.9235218, 20.481346, 0...   [1.3867838]   \n",
       "932  [-608.07245, 55.75549, 13.409108, 26.613298, -...   [1.1518781]   \n",
       "\n",
       "                                      chroma_features1  \\\n",
       "0    [0.5613639, 0.51607424, 0.4942565, 0.559985, 0...   \n",
       "1    [0.43075806, 0.71236825, 0.5354362, 0.37864283...   \n",
       "2    [0.5120637, 0.4240948, 0.37835118, 0.40419602,...   \n",
       "3    [0.48344243, 0.4247605, 0.31991082, 0.27700663...   \n",
       "4    [0.3357782, 0.3583633, 0.372898, 0.32006225, 0...   \n",
       "..                                                 ...   \n",
       "928  [0.33085436, 0.36756566, 0.45109984, 0.3520728...   \n",
       "929  [0.34257028, 0.39673063, 0.43497545, 0.3187953...   \n",
       "930  [0.61872715, 0.6274767, 0.7156743, 0.65416723,...   \n",
       "931  [0.4030363, 0.33613327, 0.31981707, 0.2961784,...   \n",
       "932  [0.4136846, 0.42799363, 0.36241728, 0.28455806...   \n",
       "\n",
       "                                      chroma_features2  \\\n",
       "0    [0.36901940466972843, 0.2956498396853704, 0.31...   \n",
       "1    [0.2824099578816442, 0.2805342458267515, 0.207...   \n",
       "2    [0.386308371152053, 0.2761394137069292, 0.2321...   \n",
       "3    [0.23877964415573058, 0.24710025871539226, 0.2...   \n",
       "4    [0.3013156769196653, 0.2589461289581806, 0.298...   \n",
       "..                                                 ...   \n",
       "928  [0.2891750401201622, 0.2933941475703626, 0.332...   \n",
       "929  [0.2987257023857266, 0.29833079334143936, 0.25...   \n",
       "930  [0.24468334748028872, 0.3216160909607349, 0.41...   \n",
       "931  [0.3066639204790587, 0.28096365678488133, 0.25...   \n",
       "932  [0.34315549763113784, 0.3470817818734792, 0.30...   \n",
       "\n",
       "                                      chroma_features3  class_label  \\\n",
       "0    [0.73921776, 0.6329696, 0.6403303, 0.6548654, ...            1   \n",
       "1    [0.6885597, 0.6979703, 0.56097203, 0.63815755,...            1   \n",
       "2    [0.73146373, 0.547114, 0.52066433, 0.5054258, ...            1   \n",
       "3    [0.5377745, 0.55522126, 0.5620581, 0.51723933,...            1   \n",
       "4    [0.62065524, 0.5347672, 0.59509873, 0.5396492,...            1   \n",
       "..                                                 ...          ...   \n",
       "928  [0.5578847, 0.56241864, 0.58177984, 0.54885334...            5   \n",
       "929  [0.61127925, 0.6083719, 0.5614367, 0.5630839, ...            5   \n",
       "930  [0.6220891, 0.7412361, 0.85163176, 0.8437252, ...            5   \n",
       "931  [0.59908, 0.5834185, 0.5612741, 0.50064546, 0....            5   \n",
       "932  [0.64930534, 0.6676238, 0.64083755, 0.61948955...            5   \n",
       "\n",
       "                        author  \n",
       "0        zurab-khut-1c-new.wav  \n",
       "1       aleksandre-pert-1a.wav  \n",
       "2            shota-noza-1c.wav  \n",
       "3    aleksandre-pert-1-new.wav  \n",
       "4            levan-gela-1j.wav  \n",
       "..                         ...  \n",
       "928           nika-onia-5c.wav  \n",
       "929          levan-gela-5i.wav  \n",
       "930          lasha-kiti-5a.wav  \n",
       "931            devi-khos-5.wav  \n",
       "932           nino-chan-5a.wav  \n",
       "\n",
       "[933 rows x 7 columns]"
      ]
     },
     "execution_count": 9,
     "metadata": {},
     "output_type": "execute_result"
    }
   ],
   "source": [
    "data = get_all_features('data')\n",
    "data"
   ]
  },
  {
   "cell_type": "code",
   "execution_count": 10,
   "metadata": {},
   "outputs": [],
   "source": [
    "labels = [[i] for i in data['class_label']]\n",
    "y_train = np.array(labels)"
   ]
  },
  {
   "cell_type": "markdown",
   "metadata": {},
   "source": [
    "# One-hot encode"
   ]
  },
  {
   "cell_type": "code",
   "execution_count": 11,
   "metadata": {},
   "outputs": [],
   "source": [
    "from sklearn.preprocessing import OneHotEncoder\n",
    "def get_one_hot(y):\n",
    "    encoder = OneHotEncoder(sparse=False)\n",
    "    y_onehot = encoder.fit_transform(y)\n",
    "    return y_onehot"
   ]
  },
  {
   "cell_type": "code",
   "execution_count": 12,
   "metadata": {
    "scrolled": false
   },
   "outputs": [
    {
     "name": "stderr",
     "output_type": "stream",
     "text": [
      "/home/tamar/anaconda3/envs/ml/lib/python3.7/site-packages/sklearn/preprocessing/_encoders.py:415: FutureWarning: The handling of integer data will change in version 0.22. Currently, the categories are determined based on the range [0, max(values)], while in the future they will be determined based on the unique values.\n",
      "If you want the future behaviour and silence this warning, you can specify \"categories='auto'\".\n",
      "In case you used a LabelEncoder before this OneHotEncoder to convert the categories to integers, then you can now use the OneHotEncoder directly.\n",
      "  warnings.warn(msg, FutureWarning)\n"
     ]
    }
   ],
   "source": [
    "y_onehot_train = get_one_hot(y_train)"
   ]
  },
  {
   "cell_type": "code",
   "execution_count": 13,
   "metadata": {},
   "outputs": [],
   "source": [
    "def get_processed_X(x):\n",
    "    X = x.drop(columns=['class_label','author'])\n",
    "    X = X.values\n",
    "    ls = []\n",
    "    for i in range(X.shape[0]):\n",
    "        features = []\n",
    "        for j in range(X.shape[1]):\n",
    "            for k in X[i][j]:\n",
    "                features.append(k)\n",
    "        ls.append(features)\n",
    "    res = np.array(ls)\n",
    "    return preprocessing.scale(res)"
   ]
  },
  {
   "cell_type": "code",
   "execution_count": 14,
   "metadata": {},
   "outputs": [],
   "source": [
    "ls_train = get_processed_X(data)"
   ]
  },
  {
   "cell_type": "markdown",
   "metadata": {},
   "source": [
    " "
   ]
  },
  {
   "cell_type": "markdown",
   "metadata": {},
   "source": [
    " # ნეირონული ქსელის კოდი"
   ]
  },
  {
   "cell_type": "code",
   "execution_count": 15,
   "metadata": {},
   "outputs": [],
   "source": [
    "def sigmoid(z):\n",
    "    return 1 / (1 + np.exp(-z))"
   ]
  },
  {
   "cell_type": "code",
   "execution_count": 16,
   "metadata": {},
   "outputs": [],
   "source": [
    "import math\n",
    "\n",
    "def softmax(z):\n",
    "    z_exp = [math.exp(i) for i in z]\n",
    "    sum_z_exp = sum(z_exp)\n",
    "    return [i / sum_z_exp for i in z_exp]"
   ]
  },
  {
   "cell_type": "code",
   "execution_count": 17,
   "metadata": {},
   "outputs": [],
   "source": [
    "def get_accuracy(h, y):\n",
    "    sm = 0\n",
    "    for a,i in zip(h, y):\n",
    "        sm+=a[(i[0]-1)]\n",
    "    sm/= y.shape[0]\n",
    "    return sm"
   ]
  },
  {
   "cell_type": "code",
   "execution_count": 18,
   "metadata": {},
   "outputs": [],
   "source": [
    "def forward_propagate(X, theta1, theta2):\n",
    "    m = X.shape[0]\n",
    "    \n",
    "    a1 = np.insert(X, 0, values=np.ones(m), axis=1)\n",
    "    z2 = a1 * theta1.T\n",
    "    a2 = np.insert(sigmoid(z2), 0, values=np.ones(m), axis=1)\n",
    "    z3 = a2 * theta2.T\n",
    "    h = []\n",
    "    for i in range(z3.shape[0]):\n",
    "        z = [z3[i, j] for j in range(z3.shape[1])]\n",
    "        h.append(softmax(z))\n",
    "    h = np.array(h)\n",
    "#     h = sigmoid(z3)\n",
    "    return a1, z2, a2, z3, h"
   ]
  },
  {
   "cell_type": "code",
   "execution_count": 19,
   "metadata": {},
   "outputs": [],
   "source": [
    "def cost(params, input_size, hidden_size, num_labels, X, y, learning_rate):\n",
    "    m = X.shape[0]\n",
    "    X = np.matrix(X)\n",
    "    y = np.matrix(y)\n",
    "    theta1 = np.matrix(np.reshape(params[:hidden_size * (input_size + 1)], (hidden_size, (input_size + 1))))\n",
    "    theta2 = np.matrix(np.reshape(params[hidden_size * (input_size + 1):], (num_labels, (hidden_size + 1))))\n",
    "    \n",
    "    a1, z2, a2, z3, h = forward_propagate(X, theta1, theta2)\n",
    "\n",
    "    J = 0\n",
    "    for i in range(m):\n",
    "        first_term = np.multiply(-y[i,:], np.log(h[i,:]))\n",
    "        second_term = np.multiply((1 - y[i,:]), np.log(1 - h[i,:]))\n",
    "        J += np.sum(first_term - second_term)\n",
    "    \n",
    "    J = J / m\n",
    "    \n",
    "    J += (float(learning_rate) / (2 * m)) * (np.sum(np.power(theta1[:,1:], 2)) + np.sum(np.power(theta2[:,1:], 2)))\n",
    "    \n",
    "    return J"
   ]
  },
  {
   "cell_type": "code",
   "execution_count": 20,
   "metadata": {},
   "outputs": [],
   "source": [
    "def sigmoid_gradient(z):\n",
    "    return np.multiply(sigmoid(z), (1 - sigmoid(z)))"
   ]
  },
  {
   "cell_type": "code",
   "execution_count": 21,
   "metadata": {},
   "outputs": [],
   "source": [
    "def backprop(params, input_size, hidden_size, num_labels, X, y, learning_rate):\n",
    "    m = X.shape[0]\n",
    "    X = np.matrix(X)\n",
    "    y = np.matrix(y)\n",
    "    \n",
    "    theta1 = np.matrix(np.reshape(params[:hidden_size * (input_size + 1)], (hidden_size, (input_size + 1))))\n",
    "    theta2 = np.matrix(np.reshape(params[hidden_size * (input_size + 1):], (num_labels, (hidden_size + 1))))\n",
    "    \n",
    "    a1, z2, a2, z3, h = forward_propagate(X, theta1, theta2)\n",
    "    \n",
    "    J = 0\n",
    "    delta1 = np.zeros(theta1.shape)\n",
    "    delta2 = np.zeros(theta2.shape)\n",
    "    \n",
    "    J = cost(params,input_size, hidden_size, num_labels, X, y, learning_rate)\n",
    "\n",
    "    for t in range(m):\n",
    "        a1t = a1[t,:]\n",
    "        z2t = z2[t,:]\n",
    "        a2t = a2[t,:]\n",
    "        ht = h[t,:]\n",
    "        yt = y[t,:]\n",
    "        \n",
    "        d3t = ht - yt\n",
    "        \n",
    "        z2t = np.insert(z2t, 0, values=np.ones(1))\n",
    "        d2t = np.multiply((theta2.T * d3t.T).T, sigmoid_gradient(z2t))\n",
    "        \n",
    "        delta1 = delta1 + (d2t[:,1:]).T * a1t\n",
    "        delta2 = delta2 + d3t.T * a2t\n",
    "        \n",
    "    delta1 = delta1 / m\n",
    "    delta2 = delta2 / m\n",
    "    \n",
    "    delta1[:,1:] = delta1[:,1:] + (theta1[:,1:] * learning_rate) / m\n",
    "    delta2[:,1:] = delta2[:,1:] + (theta2[:,1:] * learning_rate) / m\n",
    "    \n",
    "    grad = np.concatenate((np.ravel(delta1), np.ravel(delta2)))\n",
    "    \n",
    "    return J, grad"
   ]
  },
  {
   "cell_type": "code",
   "execution_count": 22,
   "metadata": {
    "scrolled": true
   },
   "outputs": [
    {
     "data": {
      "text/plain": [
       "((50, 138), (5, 51))"
      ]
     },
     "execution_count": 22,
     "metadata": {},
     "output_type": "execute_result"
    }
   ],
   "source": [
    "input_size = ls_train.shape[1]\n",
    "hidden_size = 50\n",
    "num_labels = y_onehot_train.shape[1]\n",
    "learning_rate = 0.4\n",
    "\n",
    "params = (np.random.random(size=hidden_size * (input_size + 1) + num_labels * (hidden_size + 1)) - 0.5) * 0.25\n",
    "\n",
    "ls_train = np.matrix(ls_train)\n",
    "\n",
    "theta1 = np.matrix(np.reshape(params[:hidden_size * (input_size + 1)], (hidden_size, (input_size + 1))))\n",
    "theta2 = np.matrix(np.reshape(params[hidden_size * (input_size + 1):], (num_labels, (hidden_size + 1))))\n",
    "\n",
    "theta1.shape, theta2.shape "
   ]
  },
  {
   "cell_type": "code",
   "execution_count": 23,
   "metadata": {
    "scrolled": true
   },
   "outputs": [
    {
     "data": {
      "text/plain": [
       "((933, 138), (933, 50), (933, 51), (933, 5), (933, 5))"
      ]
     },
     "execution_count": 23,
     "metadata": {},
     "output_type": "execute_result"
    }
   ],
   "source": [
    "a1, z2, a2, z3, h = forward_propagate(ls_train, theta1, theta2)\n",
    "a1.shape, z2.shape, a2.shape, z3.shape, h.shape"
   ]
  },
  {
   "cell_type": "code",
   "execution_count": 24,
   "metadata": {},
   "outputs": [
    {
     "data": {
      "text/plain": [
       "(2.534818977904408, (7155,))"
      ]
     },
     "execution_count": 24,
     "metadata": {},
     "output_type": "execute_result"
    }
   ],
   "source": [
    "J, grad = backprop(params, input_size, hidden_size, num_labels, ls_train, y_onehot_train, learning_rate)\n",
    "J, grad.shape"
   ]
  },
  {
   "cell_type": "code",
   "execution_count": 25,
   "metadata": {
    "scrolled": true
   },
   "outputs": [
    {
     "data": {
      "text/plain": [
       "     fun: 0.19461255209618933\n",
       "     jac: array([ 3.80758125e-05, -3.68646529e-05, -4.42895552e-05, ...,\n",
       "        9.85170963e-05, -1.41269404e-05,  9.54710006e-05])\n",
       " message: 'Max. number of function evaluations reached'\n",
       "    nfev: 250\n",
       "     nit: 22\n",
       "  status: 3\n",
       " success: False\n",
       "       x: array([-0.06883123, -0.10900391,  0.07862007, ..., -0.30491671,\n",
       "       -1.68441175,  1.80372857])"
      ]
     },
     "execution_count": 25,
     "metadata": {},
     "output_type": "execute_result"
    }
   ],
   "source": [
    "from scipy.optimize import minimize\n",
    "\n",
    "fmin = minimize(fun=backprop, x0=params, args=(input_size, hidden_size, num_labels, ls_train, y_onehot_train, learning_rate), \n",
    "                method='TNC', jac=True, options={'maxiter': 250})\n",
    "fmin"
   ]
  },
  {
   "cell_type": "code",
   "execution_count": 26,
   "metadata": {},
   "outputs": [],
   "source": [
    "ls_train = np.matrix(ls_train)\n",
    "theta1 = np.matrix(np.reshape(fmin.x[:hidden_size * (input_size + 1)], (hidden_size, (input_size + 1))))\n",
    "theta2 = np.matrix(np.reshape(fmin.x[hidden_size * (input_size + 1):], (num_labels, (hidden_size + 1))))\n",
    "\n",
    "a1, z2, a2, z3, h = forward_propagate(ls_train, theta1, theta2)\n",
    "accuracy = get_accuracy(h, y_train)\n",
    "print(accuracy)"
   ]
  },
  {
   "cell_type": "code",
   "execution_count": 27,
   "metadata": {},
   "outputs": [],
   "source": [
    "np.save('weights', [theta1, theta2])"
   ]
  }
 ],
 "metadata": {
  "kernelspec": {
   "display_name": "Python 3",
   "language": "python",
   "name": "python3"
  },
  "language_info": {
   "codemirror_mode": {
    "name": "ipython",
    "version": 3
   },
   "file_extension": ".py",
   "mimetype": "text/x-python",
   "name": "python",
   "nbconvert_exporter": "python",
   "pygments_lexer": "ipython3",
   "version": "3.7.4"
  }
 },
 "nbformat": 4,
 "nbformat_minor": 2
}
