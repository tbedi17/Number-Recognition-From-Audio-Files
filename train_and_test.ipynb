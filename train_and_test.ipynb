{
 "cells": [
  {
   "cell_type": "code",
   "execution_count": 117,
   "metadata": {},
   "outputs": [],
   "source": [
    "import glob\n",
    "import os\n",
    "from pydub import AudioSegment"
   ]
  },
  {
   "cell_type": "code",
   "execution_count": 118,
   "metadata": {},
   "outputs": [],
   "source": [
    "import pandas as pd\n",
    "import librosa\n",
    "import librosa.display\n",
    "from sklearn import preprocessing"
   ]
  },
  {
   "cell_type": "code",
   "execution_count": 339,
   "metadata": {},
   "outputs": [],
   "source": [
    "import numpy as np\n",
    "\n",
    "def get_features(file_name):\n",
    "    try:\n",
    "        audio, sample_rate = librosa.load(file_name, res_type='kaiser_fast') \n",
    "        mfccs = get_mfcc(audio, sample_rate)\n",
    "        flux = get_spectral_features(audio, sample_rate)[2]\n",
    "#         zero_crossing_rate = get_zero_crossing_rate(audio)\n",
    "#         spectral_features = get_spectral_features(audio, sample_rate)\n",
    "        chroma_features = get_chroma_features(audio, sample_rate)\n",
    "        return [mfccs, flux] + chroma_features\n",
    "    except Exception as e:\n",
    "        print(\"Error encountered while parsing file: \", file)\n",
    "        return None"
   ]
  },
  {
   "cell_type": "code",
   "execution_count": 562,
   "metadata": {},
   "outputs": [],
   "source": [
    "def get_all_features(folder):\n",
    "    folders = os.listdir(folder)\n",
    "    folders.sort()\n",
    "    all_features = []\n",
    "    for label, sub_dir in enumerate(folders): #label {0; 4}\n",
    "        for file_name in glob.glob(os.getcwd() + '/' + folder +'/' + sub_dir + '/*.wav'):\n",
    "#             print(\"Extracting file \", file_name)\n",
    "            try:\n",
    "                features = get_features(file_name)\n",
    "            except Exception as e:\n",
    "                print(\"Extraction error\")\n",
    "                continue\n",
    "            sub_strs= file_name.split('/')\n",
    "            all_features.append(features +  [label + 1]+[sub_strs[-1]])\n",
    "    data = pd.DataFrame(all_features, columns=['mfccs', 'flux', 'chroma_features1', 'chroma_features2', 'chroma_features3', 'class_label','author'])\n",
    "    return data"
   ]
  },
  {
   "cell_type": "code",
   "execution_count": 563,
   "metadata": {},
   "outputs": [],
   "source": [
    "def get_mfcc(audio, sr):\n",
    "    #Mel Frequency Cepstral Coefficient\n",
    "    mfccs = librosa.feature.mfcc(y=audio, sr=sr, n_mfcc=100)\n",
    "    mfccs_scaled = np.mean(mfccs.T,axis=0)\n",
    "#     mfccs - (40, სხვადასხვა), mfccsscaled - (40,)\n",
    "    return mfccs_scaled"
   ]
  },
  {
   "cell_type": "code",
   "execution_count": 564,
   "metadata": {},
   "outputs": [],
   "source": [
    "def get_zero_crossing_rate(audio):\n",
    "    #ZERO_CROSSING_RATE\n",
    "    rate = librosa.feature.zero_crossing_rate(audio)\n",
    "    rate_scaled = np.mean(rate.T,axis=0)\n",
    "#     rate - (1, სხვადასხვა)\n",
    "    return rate_scaled"
   ]
  },
  {
   "cell_type": "code",
   "execution_count": 565,
   "metadata": {},
   "outputs": [],
   "source": [
    "def get_spectral_features(audio, sr):\n",
    "    sp = librosa.feature.spectral_centroid(audio)\n",
    "    S, phase = librosa.magphase(librosa.stft(audio))\n",
    "    a = librosa.feature.spectral_rolloff(S=S, sr=sr)\n",
    "    onset_env = librosa.onset.onset_strength(y=audio, sr=sr)\n",
    "    onset_env.shape = (onset_env.shape[0], 1)\n",
    "    sp_scaled = np.mean(sp.T,axis=0)\n",
    "    a_scaled = np.mean(a.T,axis=0)\n",
    "    onset_env_scaled = np.mean(onset_env,axis=0)\n",
    "    return [sp_scaled, a_scaled, onset_env_scaled]"
   ]
  },
  {
   "cell_type": "code",
   "execution_count": 344,
   "metadata": {},
   "outputs": [],
   "source": [
    "def get_chroma_features(audio, sr):    \n",
    "    # Chroma features (needs scaling)\n",
    "    chroma_stft = librosa.feature.chroma_stft(y=audio, sr=sr) #N1\n",
    "    chroma_cens = librosa.feature.chroma_cens(y=audio, sr=sr) #Chroma energy normalized statistics\n",
    "    chroma_cq = librosa.feature.chroma_cqt(y=audio, sr=sr)\n",
    "#     samive - (12, სხვადასხვა)\n",
    "    chroma_stft_scaled = np.mean(chroma_stft.T,axis=0)\n",
    "    chroma_cens_scaled = np.mean(chroma_cens.T,axis=0)\n",
    "    chroma_cq_scaled = np.mean(chroma_cq.T,axis=0)\n",
    "    return [chroma_stft_scaled, chroma_cens_scaled, chroma_cq_scaled]"
   ]
  },
  {
   "cell_type": "code",
   "execution_count": 345,
   "metadata": {},
   "outputs": [],
   "source": [
    "def get_pitch(audio, sr):\n",
    "    # Pitch (needs scaling)\n",
    "    pitches, magnitudes = librosa.piptrack(y=audio, sr=sr)\n",
    "#     pitches - (1025, სხვადასხვა)\n",
    "    pitches_scaled = np.mean(pitches.T,axis=0)\n",
    "    return pitches_scaled"
   ]
  },
  {
   "cell_type": "code",
   "execution_count": 567,
   "metadata": {},
   "outputs": [],
   "source": [
    "data = get_all_features('data')"
   ]
  },
  {
   "cell_type": "code",
   "execution_count": 568,
   "metadata": {},
   "outputs": [
    {
     "data": {
      "text/html": [
       "<div>\n",
       "<style scoped>\n",
       "    .dataframe tbody tr th:only-of-type {\n",
       "        vertical-align: middle;\n",
       "    }\n",
       "\n",
       "    .dataframe tbody tr th {\n",
       "        vertical-align: top;\n",
       "    }\n",
       "\n",
       "    .dataframe thead th {\n",
       "        text-align: right;\n",
       "    }\n",
       "</style>\n",
       "<table border=\"1\" class=\"dataframe\">\n",
       "  <thead>\n",
       "    <tr style=\"text-align: right;\">\n",
       "      <th></th>\n",
       "      <th>mfccs</th>\n",
       "      <th>flux</th>\n",
       "      <th>chroma_features1</th>\n",
       "      <th>chroma_features2</th>\n",
       "      <th>chroma_features3</th>\n",
       "      <th>class_label</th>\n",
       "      <th>author</th>\n",
       "    </tr>\n",
       "  </thead>\n",
       "  <tbody>\n",
       "    <tr>\n",
       "      <td>0</td>\n",
       "      <td>[-519.81506, 103.558624, 5.094279, 12.520718, ...</td>\n",
       "      <td>[1.1040484]</td>\n",
       "      <td>[0.47122666, 0.53405166, 0.4343129, 0.4197182,...</td>\n",
       "      <td>[0.3577661033313455, 0.31667392169305425, 0.27...</td>\n",
       "      <td>[0.7311941, 0.6571596, 0.61311823, 0.57645756,...</td>\n",
       "      <td>1</td>\n",
       "      <td>devi-khos-1c.wav</td>\n",
       "    </tr>\n",
       "    <tr>\n",
       "      <td>1</td>\n",
       "      <td>[-464.22855, 86.402466, 1.4660753, 39.858746, ...</td>\n",
       "      <td>[1.2896011]</td>\n",
       "      <td>[0.21589144, 0.2389997, 0.20254241, 0.19910134...</td>\n",
       "      <td>[0.21907555772651013, 0.2295746090213864, 0.20...</td>\n",
       "      <td>[0.48257867, 0.46096468, 0.47640213, 0.4181773...</td>\n",
       "      <td>1</td>\n",
       "      <td>levan-gela-1i.wav</td>\n",
       "    </tr>\n",
       "    <tr>\n",
       "      <td>2</td>\n",
       "      <td>[-486.81018, 78.95307, 10.765352, 24.155785, 2...</td>\n",
       "      <td>[1.0302314]</td>\n",
       "      <td>[0.24482803, 0.42047572, 0.3438334, 0.21628611...</td>\n",
       "      <td>[0.2386073375435842, 0.2771850018902663, 0.282...</td>\n",
       "      <td>[0.472282, 0.54941887, 0.5558386, 0.4956196, 0...</td>\n",
       "      <td>1</td>\n",
       "      <td>levan-gela-1e.wav</td>\n",
       "    </tr>\n",
       "    <tr>\n",
       "      <td>3</td>\n",
       "      <td>[-371.95035, 88.89893, 18.585104, 37.49893, 22...</td>\n",
       "      <td>[1.2952656]</td>\n",
       "      <td>[0.66026014, 0.65159476, 0.669117, 0.6810091, ...</td>\n",
       "      <td>[0.36983599072945383, 0.3116892941638839, 0.27...</td>\n",
       "      <td>[0.7836753, 0.653338, 0.58456016, 0.64552176, ...</td>\n",
       "      <td>1</td>\n",
       "      <td>demetre-pipi-1j.wav</td>\n",
       "    </tr>\n",
       "    <tr>\n",
       "      <td>4</td>\n",
       "      <td>[-395.92157, 113.11236, -11.457305, 20.73268, ...</td>\n",
       "      <td>[1.3744305]</td>\n",
       "      <td>[0.44697517, 0.4343074, 0.46665907, 0.46354422...</td>\n",
       "      <td>[0.13909989620870808, 0.11157221325200287, 0.0...</td>\n",
       "      <td>[0.26981196, 0.22124545, 0.22039069, 0.2268472...</td>\n",
       "      <td>1</td>\n",
       "      <td>aleksandre-surg-1a.wav</td>\n",
       "    </tr>\n",
       "    <tr>\n",
       "      <td>...</td>\n",
       "      <td>...</td>\n",
       "      <td>...</td>\n",
       "      <td>...</td>\n",
       "      <td>...</td>\n",
       "      <td>...</td>\n",
       "      <td>...</td>\n",
       "      <td>...</td>\n",
       "    </tr>\n",
       "    <tr>\n",
       "      <td>928</td>\n",
       "      <td>[-512.19196, 80.67449, 10.107907, 25.327131, -...</td>\n",
       "      <td>[1.6881658]</td>\n",
       "      <td>[0.530046, 0.5536834, 0.45305467, 0.25472108, ...</td>\n",
       "      <td>[0.4000457763267655, 0.4343604425235178, 0.347...</td>\n",
       "      <td>[0.7468369, 0.7724738, 0.63860536, 0.464398, 0...</td>\n",
       "      <td>5</td>\n",
       "      <td>vakho-koto-5.wav</td>\n",
       "    </tr>\n",
       "    <tr>\n",
       "      <td>929</td>\n",
       "      <td>[-483.0102, 54.661938, 7.4288363, 14.600777, -...</td>\n",
       "      <td>[1.1483014]</td>\n",
       "      <td>[0.37088937, 0.3834142, 0.4068672, 0.50962865,...</td>\n",
       "      <td>[0.19182951536924017, 0.2038463863858157, 0.21...</td>\n",
       "      <td>[0.5225111, 0.505493, 0.53714085, 0.6103023, 0...</td>\n",
       "      <td>5</td>\n",
       "      <td>landg16-xuti-6.wav</td>\n",
       "    </tr>\n",
       "    <tr>\n",
       "      <td>930</td>\n",
       "      <td>[-469.48288, 88.22836, -0.18532442, 30.47129, ...</td>\n",
       "      <td>[2.073814]</td>\n",
       "      <td>[0.6775684, 0.66309303, 0.58909744, 0.5385316,...</td>\n",
       "      <td>[0.3661583151703543, 0.41587573709340125, 0.35...</td>\n",
       "      <td>[0.74639964, 0.84113187, 0.7271359, 0.68710893...</td>\n",
       "      <td>5</td>\n",
       "      <td>Mariam-chkh-5c.wav</td>\n",
       "    </tr>\n",
       "    <tr>\n",
       "      <td>931</td>\n",
       "      <td>[-496.92728, 89.38166, 17.64291, 20.645283, -1...</td>\n",
       "      <td>[1.272223]</td>\n",
       "      <td>[0.35152233, 0.3579253, 0.27196565, 0.18533759...</td>\n",
       "      <td>[0.25597659639987624, 0.23097017694564023, 0.2...</td>\n",
       "      <td>[0.51328653, 0.4739466, 0.48965722, 0.43698457...</td>\n",
       "      <td>5</td>\n",
       "      <td>levan-gela-5b.wav</td>\n",
       "    </tr>\n",
       "    <tr>\n",
       "      <td>932</td>\n",
       "      <td>[-583.13586, 84.98493, 33.047455, 17.178497, 0...</td>\n",
       "      <td>[0.9627036]</td>\n",
       "      <td>[0.33661285, 0.35432506, 0.4057221, 0.35958645...</td>\n",
       "      <td>[0.315563854218883, 0.2784718051360043, 0.2663...</td>\n",
       "      <td>[0.6288614, 0.5675649, 0.55311716, 0.50026596,...</td>\n",
       "      <td>5</td>\n",
       "      <td>revaz-lobz-5b.wav</td>\n",
       "    </tr>\n",
       "  </tbody>\n",
       "</table>\n",
       "<p>933 rows × 7 columns</p>\n",
       "</div>"
      ],
      "text/plain": [
       "                                                 mfccs         flux  \\\n",
       "0    [-519.81506, 103.558624, 5.094279, 12.520718, ...  [1.1040484]   \n",
       "1    [-464.22855, 86.402466, 1.4660753, 39.858746, ...  [1.2896011]   \n",
       "2    [-486.81018, 78.95307, 10.765352, 24.155785, 2...  [1.0302314]   \n",
       "3    [-371.95035, 88.89893, 18.585104, 37.49893, 22...  [1.2952656]   \n",
       "4    [-395.92157, 113.11236, -11.457305, 20.73268, ...  [1.3744305]   \n",
       "..                                                 ...          ...   \n",
       "928  [-512.19196, 80.67449, 10.107907, 25.327131, -...  [1.6881658]   \n",
       "929  [-483.0102, 54.661938, 7.4288363, 14.600777, -...  [1.1483014]   \n",
       "930  [-469.48288, 88.22836, -0.18532442, 30.47129, ...   [2.073814]   \n",
       "931  [-496.92728, 89.38166, 17.64291, 20.645283, -1...   [1.272223]   \n",
       "932  [-583.13586, 84.98493, 33.047455, 17.178497, 0...  [0.9627036]   \n",
       "\n",
       "                                      chroma_features1  \\\n",
       "0    [0.47122666, 0.53405166, 0.4343129, 0.4197182,...   \n",
       "1    [0.21589144, 0.2389997, 0.20254241, 0.19910134...   \n",
       "2    [0.24482803, 0.42047572, 0.3438334, 0.21628611...   \n",
       "3    [0.66026014, 0.65159476, 0.669117, 0.6810091, ...   \n",
       "4    [0.44697517, 0.4343074, 0.46665907, 0.46354422...   \n",
       "..                                                 ...   \n",
       "928  [0.530046, 0.5536834, 0.45305467, 0.25472108, ...   \n",
       "929  [0.37088937, 0.3834142, 0.4068672, 0.50962865,...   \n",
       "930  [0.6775684, 0.66309303, 0.58909744, 0.5385316,...   \n",
       "931  [0.35152233, 0.3579253, 0.27196565, 0.18533759...   \n",
       "932  [0.33661285, 0.35432506, 0.4057221, 0.35958645...   \n",
       "\n",
       "                                      chroma_features2  \\\n",
       "0    [0.3577661033313455, 0.31667392169305425, 0.27...   \n",
       "1    [0.21907555772651013, 0.2295746090213864, 0.20...   \n",
       "2    [0.2386073375435842, 0.2771850018902663, 0.282...   \n",
       "3    [0.36983599072945383, 0.3116892941638839, 0.27...   \n",
       "4    [0.13909989620870808, 0.11157221325200287, 0.0...   \n",
       "..                                                 ...   \n",
       "928  [0.4000457763267655, 0.4343604425235178, 0.347...   \n",
       "929  [0.19182951536924017, 0.2038463863858157, 0.21...   \n",
       "930  [0.3661583151703543, 0.41587573709340125, 0.35...   \n",
       "931  [0.25597659639987624, 0.23097017694564023, 0.2...   \n",
       "932  [0.315563854218883, 0.2784718051360043, 0.2663...   \n",
       "\n",
       "                                      chroma_features3  class_label  \\\n",
       "0    [0.7311941, 0.6571596, 0.61311823, 0.57645756,...            1   \n",
       "1    [0.48257867, 0.46096468, 0.47640213, 0.4181773...            1   \n",
       "2    [0.472282, 0.54941887, 0.5558386, 0.4956196, 0...            1   \n",
       "3    [0.7836753, 0.653338, 0.58456016, 0.64552176, ...            1   \n",
       "4    [0.26981196, 0.22124545, 0.22039069, 0.2268472...            1   \n",
       "..                                                 ...          ...   \n",
       "928  [0.7468369, 0.7724738, 0.63860536, 0.464398, 0...            5   \n",
       "929  [0.5225111, 0.505493, 0.53714085, 0.6103023, 0...            5   \n",
       "930  [0.74639964, 0.84113187, 0.7271359, 0.68710893...            5   \n",
       "931  [0.51328653, 0.4739466, 0.48965722, 0.43698457...            5   \n",
       "932  [0.6288614, 0.5675649, 0.55311716, 0.50026596,...            5   \n",
       "\n",
       "                     author  \n",
       "0          devi-khos-1c.wav  \n",
       "1         levan-gela-1i.wav  \n",
       "2         levan-gela-1e.wav  \n",
       "3       demetre-pipi-1j.wav  \n",
       "4    aleksandre-surg-1a.wav  \n",
       "..                      ...  \n",
       "928        vakho-koto-5.wav  \n",
       "929      landg16-xuti-6.wav  \n",
       "930      Mariam-chkh-5c.wav  \n",
       "931       levan-gela-5b.wav  \n",
       "932       revaz-lobz-5b.wav  \n",
       "\n",
       "[933 rows x 7 columns]"
      ]
     },
     "execution_count": 568,
     "metadata": {},
     "output_type": "execute_result"
    }
   ],
   "source": [
    "# data = data.sample(frac=1).reset_index(drop=True)\n",
    "data"
   ]
  },
  {
   "cell_type": "code",
   "execution_count": 566,
   "metadata": {},
   "outputs": [
    {
     "data": {
      "text/html": [
       "<div>\n",
       "<style scoped>\n",
       "    .dataframe tbody tr th:only-of-type {\n",
       "        vertical-align: middle;\n",
       "    }\n",
       "\n",
       "    .dataframe tbody tr th {\n",
       "        vertical-align: top;\n",
       "    }\n",
       "\n",
       "    .dataframe thead th {\n",
       "        text-align: right;\n",
       "    }\n",
       "</style>\n",
       "<table border=\"1\" class=\"dataframe\">\n",
       "  <thead>\n",
       "    <tr style=\"text-align: right;\">\n",
       "      <th></th>\n",
       "      <th>mfccs</th>\n",
       "      <th>flux</th>\n",
       "      <th>chroma_features1</th>\n",
       "      <th>chroma_features2</th>\n",
       "      <th>chroma_features3</th>\n",
       "      <th>class_label</th>\n",
       "      <th>author</th>\n",
       "    </tr>\n",
       "  </thead>\n",
       "  <tbody>\n",
       "    <tr>\n",
       "      <td>0</td>\n",
       "      <td>[-506.1684, 65.66203, 33.701477, 43.65632, -4....</td>\n",
       "      <td>[1.5657881]</td>\n",
       "      <td>[0.40114653, 0.3731631, 0.48328295, 0.48039213...</td>\n",
       "      <td>[0.2920471097086192, 0.2930405019111327, 0.290...</td>\n",
       "      <td>[0.6231679, 0.6254522, 0.6280429, 0.5692649, 0...</td>\n",
       "      <td>1</td>\n",
       "      <td>1a-mariam.wav</td>\n",
       "    </tr>\n",
       "    <tr>\n",
       "      <td>1</td>\n",
       "      <td>[-478.53287, 65.18405, 17.451687, 21.892368, 7...</td>\n",
       "      <td>[1.5289221]</td>\n",
       "      <td>[0.6736648, 0.6688613, 0.60539407, 0.60239834,...</td>\n",
       "      <td>[0.3421289642681023, 0.33528348089142884, 0.27...</td>\n",
       "      <td>[0.7224362, 0.73755556, 0.62307197, 0.6196807,...</td>\n",
       "      <td>1</td>\n",
       "      <td>2020-02-06-13:36:45.wav</td>\n",
       "    </tr>\n",
       "    <tr>\n",
       "      <td>2</td>\n",
       "      <td>[-491.16028, 80.35386, 30.775454, 23.93185, -4...</td>\n",
       "      <td>[1.2332506]</td>\n",
       "      <td>[0.3120178, 0.39821157, 0.4679588, 0.43941608,...</td>\n",
       "      <td>[0.25435417789748055, 0.27823698888932513, 0.2...</td>\n",
       "      <td>[0.5137105, 0.5593776, 0.5820793, 0.5284205, 0...</td>\n",
       "      <td>2</td>\n",
       "      <td>2a-mariam.wav</td>\n",
       "    </tr>\n",
       "    <tr>\n",
       "      <td>3</td>\n",
       "      <td>[-444.47464, 61.194283, 24.238213, 19.800646, ...</td>\n",
       "      <td>[1.375505]</td>\n",
       "      <td>[0.67180896, 0.67138696, 0.61472505, 0.6156932...</td>\n",
       "      <td>[0.35798398594514086, 0.30514770483534287, 0.2...</td>\n",
       "      <td>[0.76032984, 0.6668473, 0.60944355, 0.582932, ...</td>\n",
       "      <td>2</td>\n",
       "      <td>2020-02-06-13:37:14.wav</td>\n",
       "    </tr>\n",
       "    <tr>\n",
       "      <td>4</td>\n",
       "      <td>[-444.93436, 50.723774, 18.369139, 16.19961, 7...</td>\n",
       "      <td>[1.4494555]</td>\n",
       "      <td>[0.59621143, 0.494852, 0.43561548, 0.47940192,...</td>\n",
       "      <td>[0.34556402520548585, 0.25663220899678424, 0.2...</td>\n",
       "      <td>[0.7199497, 0.60318553, 0.60958517, 0.5880586,...</td>\n",
       "      <td>3</td>\n",
       "      <td>2020-02-06-13:37:34.wav</td>\n",
       "    </tr>\n",
       "    <tr>\n",
       "      <td>5</td>\n",
       "      <td>[-506.0479, 102.67351, 21.879494, 15.528565, -...</td>\n",
       "      <td>[1.7726547]</td>\n",
       "      <td>[0.3206917, 0.349603, 0.3843402, 0.3727167, 0....</td>\n",
       "      <td>[0.2073938701528828, 0.22265289558579782, 0.22...</td>\n",
       "      <td>[0.5220888, 0.53869176, 0.5591394, 0.53072655,...</td>\n",
       "      <td>3</td>\n",
       "      <td>3a-mariam.wav</td>\n",
       "    </tr>\n",
       "    <tr>\n",
       "      <td>6</td>\n",
       "      <td>[-485.59055, 63.222195, 15.867859, 20.553497, ...</td>\n",
       "      <td>[1.5205839]</td>\n",
       "      <td>[0.6946735, 0.6309911, 0.6145359, 0.60764027, ...</td>\n",
       "      <td>[0.3931982878551257, 0.36561492294997605, 0.28...</td>\n",
       "      <td>[0.8065624, 0.7632137, 0.6045693, 0.60074776, ...</td>\n",
       "      <td>4</td>\n",
       "      <td>2020-02-06-13:37:52.wav</td>\n",
       "    </tr>\n",
       "    <tr>\n",
       "      <td>7</td>\n",
       "      <td>[-429.3955, 84.80725, 18.176964, 26.201424, -7...</td>\n",
       "      <td>[1.9984628]</td>\n",
       "      <td>[0.4646005, 0.44519487, 0.4020764, 0.37762818,...</td>\n",
       "      <td>[0.29015640189163744, 0.28485227585615125, 0.2...</td>\n",
       "      <td>[0.5988225, 0.59547395, 0.5745526, 0.5712071, ...</td>\n",
       "      <td>4</td>\n",
       "      <td>4a-mariam.wav</td>\n",
       "    </tr>\n",
       "    <tr>\n",
       "      <td>8</td>\n",
       "      <td>[-405.18478, 97.23668, 26.406164, 29.371513, -...</td>\n",
       "      <td>[1.9520679]</td>\n",
       "      <td>[0.51994026, 0.5636445, 0.56319994, 0.47556448...</td>\n",
       "      <td>[0.31744241277932217, 0.34654344375363483, 0.3...</td>\n",
       "      <td>[0.70441234, 0.69583523, 0.7297711, 0.6737782,...</td>\n",
       "      <td>5</td>\n",
       "      <td>5a-mariam.wav</td>\n",
       "    </tr>\n",
       "    <tr>\n",
       "      <td>9</td>\n",
       "      <td>[-475.99872, 97.237366, 26.406332, 29.371502, ...</td>\n",
       "      <td>[1.9520866]</td>\n",
       "      <td>[0.51993966, 0.5636841, 0.56326824, 0.4756088,...</td>\n",
       "      <td>[0.31744241277932217, 0.34654344375363483, 0.3...</td>\n",
       "      <td>[0.70439345, 0.69583005, 0.72975284, 0.6737864...</td>\n",
       "      <td>5</td>\n",
       "      <td>5-mariam.wav</td>\n",
       "    </tr>\n",
       "  </tbody>\n",
       "</table>\n",
       "</div>"
      ],
      "text/plain": [
       "                                               mfccs         flux  \\\n",
       "0  [-506.1684, 65.66203, 33.701477, 43.65632, -4....  [1.5657881]   \n",
       "1  [-478.53287, 65.18405, 17.451687, 21.892368, 7...  [1.5289221]   \n",
       "2  [-491.16028, 80.35386, 30.775454, 23.93185, -4...  [1.2332506]   \n",
       "3  [-444.47464, 61.194283, 24.238213, 19.800646, ...   [1.375505]   \n",
       "4  [-444.93436, 50.723774, 18.369139, 16.19961, 7...  [1.4494555]   \n",
       "5  [-506.0479, 102.67351, 21.879494, 15.528565, -...  [1.7726547]   \n",
       "6  [-485.59055, 63.222195, 15.867859, 20.553497, ...  [1.5205839]   \n",
       "7  [-429.3955, 84.80725, 18.176964, 26.201424, -7...  [1.9984628]   \n",
       "8  [-405.18478, 97.23668, 26.406164, 29.371513, -...  [1.9520679]   \n",
       "9  [-475.99872, 97.237366, 26.406332, 29.371502, ...  [1.9520866]   \n",
       "\n",
       "                                    chroma_features1  \\\n",
       "0  [0.40114653, 0.3731631, 0.48328295, 0.48039213...   \n",
       "1  [0.6736648, 0.6688613, 0.60539407, 0.60239834,...   \n",
       "2  [0.3120178, 0.39821157, 0.4679588, 0.43941608,...   \n",
       "3  [0.67180896, 0.67138696, 0.61472505, 0.6156932...   \n",
       "4  [0.59621143, 0.494852, 0.43561548, 0.47940192,...   \n",
       "5  [0.3206917, 0.349603, 0.3843402, 0.3727167, 0....   \n",
       "6  [0.6946735, 0.6309911, 0.6145359, 0.60764027, ...   \n",
       "7  [0.4646005, 0.44519487, 0.4020764, 0.37762818,...   \n",
       "8  [0.51994026, 0.5636445, 0.56319994, 0.47556448...   \n",
       "9  [0.51993966, 0.5636841, 0.56326824, 0.4756088,...   \n",
       "\n",
       "                                    chroma_features2  \\\n",
       "0  [0.2920471097086192, 0.2930405019111327, 0.290...   \n",
       "1  [0.3421289642681023, 0.33528348089142884, 0.27...   \n",
       "2  [0.25435417789748055, 0.27823698888932513, 0.2...   \n",
       "3  [0.35798398594514086, 0.30514770483534287, 0.2...   \n",
       "4  [0.34556402520548585, 0.25663220899678424, 0.2...   \n",
       "5  [0.2073938701528828, 0.22265289558579782, 0.22...   \n",
       "6  [0.3931982878551257, 0.36561492294997605, 0.28...   \n",
       "7  [0.29015640189163744, 0.28485227585615125, 0.2...   \n",
       "8  [0.31744241277932217, 0.34654344375363483, 0.3...   \n",
       "9  [0.31744241277932217, 0.34654344375363483, 0.3...   \n",
       "\n",
       "                                    chroma_features3  class_label  \\\n",
       "0  [0.6231679, 0.6254522, 0.6280429, 0.5692649, 0...            1   \n",
       "1  [0.7224362, 0.73755556, 0.62307197, 0.6196807,...            1   \n",
       "2  [0.5137105, 0.5593776, 0.5820793, 0.5284205, 0...            2   \n",
       "3  [0.76032984, 0.6668473, 0.60944355, 0.582932, ...            2   \n",
       "4  [0.7199497, 0.60318553, 0.60958517, 0.5880586,...            3   \n",
       "5  [0.5220888, 0.53869176, 0.5591394, 0.53072655,...            3   \n",
       "6  [0.8065624, 0.7632137, 0.6045693, 0.60074776, ...            4   \n",
       "7  [0.5988225, 0.59547395, 0.5745526, 0.5712071, ...            4   \n",
       "8  [0.70441234, 0.69583523, 0.7297711, 0.6737782,...            5   \n",
       "9  [0.70439345, 0.69583005, 0.72975284, 0.6737864...            5   \n",
       "\n",
       "                    author  \n",
       "0            1a-mariam.wav  \n",
       "1  2020-02-06-13:36:45.wav  \n",
       "2            2a-mariam.wav  \n",
       "3  2020-02-06-13:37:14.wav  \n",
       "4  2020-02-06-13:37:34.wav  \n",
       "5            3a-mariam.wav  \n",
       "6  2020-02-06-13:37:52.wav  \n",
       "7            4a-mariam.wav  \n",
       "8            5a-mariam.wav  \n",
       "9             5-mariam.wav  "
      ]
     },
     "execution_count": 566,
     "metadata": {},
     "output_type": "execute_result"
    }
   ],
   "source": [
    "test_data = get_all_features('test')\n",
    "# test_data = test_data.sample(frac=1).reset_index(drop=True)\n",
    "test_data"
   ]
  },
  {
   "cell_type": "code",
   "execution_count": 585,
   "metadata": {},
   "outputs": [],
   "source": [
    "from sklearn.model_selection import train_test_split \n",
    "labels = [[i] for i in data['class_label']]\n",
    "testLabels = [[i] for i in test_data['class_label']]\n",
    "testAuthors = [[i] for i in test_data['author']]\n",
    "y_train = np.array(labels)\n",
    "y_test = np.array(testLabels)\n",
    "authors = np.array(testAuthors)\n",
    "# x_train, x_test, y_train, y_test = train_test_split(data, np.array(labels), test_size=0.1, random_state = 127)\n",
    "# print(x_train.shape, x_test.shape, y_train.shape, y_test.shape)"
   ]
  },
  {
   "cell_type": "markdown",
   "metadata": {},
   "source": [
    "# One-hot encode"
   ]
  },
  {
   "cell_type": "code",
   "execution_count": 570,
   "metadata": {},
   "outputs": [],
   "source": [
    "from sklearn.preprocessing import OneHotEncoder\n",
    "def get_one_hot(y):\n",
    "    encoder = OneHotEncoder(sparse=False)\n",
    "    y_onehot = encoder.fit_transform(y)\n",
    "    return y_onehot"
   ]
  },
  {
   "cell_type": "code",
   "execution_count": 571,
   "metadata": {},
   "outputs": [
    {
     "name": "stdout",
     "output_type": "stream",
     "text": [
      "(933, 5) (10, 5)\n"
     ]
    },
    {
     "name": "stderr",
     "output_type": "stream",
     "text": [
      "/home/mariam/anaconda3/envs/ml/lib/python3.7/site-packages/sklearn/preprocessing/_encoders.py:415: FutureWarning: The handling of integer data will change in version 0.22. Currently, the categories are determined based on the range [0, max(values)], while in the future they will be determined based on the unique values.\n",
      "If you want the future behaviour and silence this warning, you can specify \"categories='auto'\".\n",
      "In case you used a LabelEncoder before this OneHotEncoder to convert the categories to integers, then you can now use the OneHotEncoder directly.\n",
      "  warnings.warn(msg, FutureWarning)\n",
      "/home/mariam/anaconda3/envs/ml/lib/python3.7/site-packages/sklearn/preprocessing/_encoders.py:415: FutureWarning: The handling of integer data will change in version 0.22. Currently, the categories are determined based on the range [0, max(values)], while in the future they will be determined based on the unique values.\n",
      "If you want the future behaviour and silence this warning, you can specify \"categories='auto'\".\n",
      "In case you used a LabelEncoder before this OneHotEncoder to convert the categories to integers, then you can now use the OneHotEncoder directly.\n",
      "  warnings.warn(msg, FutureWarning)\n"
     ]
    }
   ],
   "source": [
    "y_onehot_train = get_one_hot(y_train)\n",
    "y_onehot_test = get_one_hot(y_test)\n",
    "print(y_onehot_train.shape, y_onehot_test.shape)"
   ]
  },
  {
   "cell_type": "markdown",
   "metadata": {},
   "source": [
    "# აქ გვინდა რომ ყველა ფიჩერზე გვქონდეს წვდომა და მაგიტომ ამოღებისას უნდა შევცვალოთ როგორცაა შენახული დანარჩენი არაფრის შეცვლა არ მოგვიწევს"
   ]
  },
  {
   "cell_type": "code",
   "execution_count": 572,
   "metadata": {},
   "outputs": [],
   "source": [
    "def get_processed_X(x):\n",
    "    X = x.drop(columns=['class_label','author'])\n",
    "    X = X.values\n",
    "    ls = [] #featurebi gvinda da magitom\n",
    "    for i in range(X.shape[0]):\n",
    "        features = []\n",
    "        for j in range(X.shape[1]):\n",
    "            for k in X[i][j]:\n",
    "                features.append(k)\n",
    "        ls.append(features)\n",
    "    res = np.array(ls)\n",
    "#     აქ ჩავამატე\n",
    "#     print(preprocessing.scale(res))\n",
    "    return preprocessing.scale(res)"
   ]
  },
  {
   "cell_type": "code",
   "execution_count": 575,
   "metadata": {},
   "outputs": [
    {
     "name": "stdout",
     "output_type": "stream",
     "text": [
      "(933, 137) (10, 137)\n"
     ]
    }
   ],
   "source": [
    "ls_train = get_processed_X(data)\n",
    "ls_test = get_processed_X(test_data)\n",
    "print(ls_train.shape, ls_test.shape)"
   ]
  },
  {
   "cell_type": "markdown",
   "metadata": {},
   "source": [
    " # ნეირონული ქსელის კოდი"
   ]
  },
  {
   "cell_type": "code",
   "execution_count": 541,
   "metadata": {},
   "outputs": [],
   "source": [
    "def sigmoid(z):\n",
    "    return 1 / (1 + np.exp(-z))"
   ]
  },
  {
   "cell_type": "code",
   "execution_count": 542,
   "metadata": {},
   "outputs": [],
   "source": [
    "import math\n",
    "\n",
    "def softmax(z):\n",
    "    z_exp = [math.exp(i) for i in z]\n",
    "    sum_z_exp = sum(z_exp)\n",
    "    return [i / sum_z_exp for i in z_exp]"
   ]
  },
  {
   "cell_type": "code",
   "execution_count": 591,
   "metadata": {},
   "outputs": [],
   "source": [
    "def get_accuracy(h, y):\n",
    "    sm = 0\n",
    "    for a,i in zip(h, y):\n",
    "        sm+=a[(i[0]-1)]\n",
    "    sm/= y.shape[0]\n",
    "    return sm"
   ]
  },
  {
   "cell_type": "code",
   "execution_count": 543,
   "metadata": {},
   "outputs": [],
   "source": [
    "def forward_propagate(X, theta1, theta2):\n",
    "    m = X.shape[0]\n",
    "    \n",
    "    a1 = np.insert(X, 0, values=np.ones(m), axis=1)\n",
    "    z2 = a1 * theta1.T\n",
    "    a2 = np.insert(sigmoid(z2), 0, values=np.ones(m), axis=1)\n",
    "    z3 = a2 * theta2.T\n",
    "    h = []\n",
    "    for i in range(z3.shape[0]):\n",
    "        z = [z3[i, j] for j in range(z3.shape[1])]\n",
    "        h.append(softmax(z))\n",
    "    h = np.array(h)\n",
    "#     h = sigmoid(z3)\n",
    "    return a1, z2, a2, z3, h"
   ]
  },
  {
   "cell_type": "code",
   "execution_count": 544,
   "metadata": {},
   "outputs": [],
   "source": [
    "def cost(params, input_size, hidden_size, num_labels, X, y, learning_rate):\n",
    "    m = X.shape[0]\n",
    "    X = np.matrix(X)\n",
    "    y = np.matrix(y)\n",
    "    # reshape the parameter array into parameter matrices for each layer\n",
    "    theta1 = np.matrix(np.reshape(params[:hidden_size * (input_size + 1)], (hidden_size, (input_size + 1))))\n",
    "    theta2 = np.matrix(np.reshape(params[hidden_size * (input_size + 1):], (num_labels, (hidden_size + 1))))\n",
    "    \n",
    "    # run the feed-forward pass\n",
    "    a1, z2, a2, z3, h = forward_propagate(X, theta1, theta2)\n",
    "\n",
    "#     J = (-1 / m) * np.sum(y * np.log(h).T) #softmax\n",
    "    # compute the cost\n",
    "    J = 0\n",
    "    for i in range(m):\n",
    "        first_term = np.multiply(-y[i,:], np.log(h[i,:]))\n",
    "        second_term = np.multiply((1 - y[i,:]), np.log(1 - h[i,:]))\n",
    "        J += np.sum(first_term - second_term)\n",
    "    \n",
    "    J = J / m\n",
    "    \n",
    "    # add the cost regularization term\n",
    "    J += (float(learning_rate) / (2 * m)) * (np.sum(np.power(theta1[:,1:], 2)) + np.sum(np.power(theta2[:,1:], 2)))\n",
    "    \n",
    "    return J"
   ]
  },
  {
   "cell_type": "code",
   "execution_count": 545,
   "metadata": {},
   "outputs": [],
   "source": [
    "def sigmoid_gradient(z):\n",
    "    return np.multiply(sigmoid(z), (1 - sigmoid(z)))"
   ]
  },
  {
   "cell_type": "code",
   "execution_count": 546,
   "metadata": {},
   "outputs": [],
   "source": [
    "def backprop(params, input_size, hidden_size, num_labels, X, y, learning_rate):\n",
    "    m = X.shape[0]\n",
    "    X = np.matrix(X)\n",
    "    y = np.matrix(y)\n",
    "    \n",
    "    # reshape the parameter array into parameter matrices for each layer\n",
    "    theta1 = np.matrix(np.reshape(params[:hidden_size * (input_size + 1)], (hidden_size, (input_size + 1))))\n",
    "    theta2 = np.matrix(np.reshape(params[hidden_size * (input_size + 1):], (num_labels, (hidden_size + 1))))\n",
    "    \n",
    "    # run the feed-forward pass\n",
    "    a1, z2, a2, z3, h = forward_propagate(X, theta1, theta2)\n",
    "    \n",
    "    # initializations\n",
    "    J = 0\n",
    "    delta1 = np.zeros(theta1.shape)  # (25, 401)\n",
    "    delta2 = np.zeros(theta2.shape)  # (10, 26)\n",
    "    \n",
    "    J = cost(params,input_size, hidden_size, num_labels, X, y, learning_rate)\n",
    "\n",
    "    # perform backpropagation\n",
    "    for t in range(m):\n",
    "        a1t = a1[t,:]  # (1, 401)\n",
    "        z2t = z2[t,:]  # (1, 25)\n",
    "        a2t = a2[t,:]  # (1, 26)\n",
    "        ht = h[t,:]  # (1, 10)\n",
    "        yt = y[t,:]  # (1, 10)\n",
    "        \n",
    "        d3t = ht - yt  # (1, 10)\n",
    "        \n",
    "        z2t = np.insert(z2t, 0, values=np.ones(1))  # (1, 26)\n",
    "        d2t = np.multiply((theta2.T * d3t.T).T, sigmoid_gradient(z2t))  # (1, 26)\n",
    "        \n",
    "        delta1 = delta1 + (d2t[:,1:]).T * a1t\n",
    "        delta2 = delta2 + d3t.T * a2t\n",
    "        \n",
    "    delta1 = delta1 / m\n",
    "    delta2 = delta2 / m\n",
    "    \n",
    "    # add the gradient regularization term\n",
    "    delta1[:,1:] = delta1[:,1:] + (theta1[:,1:] * learning_rate) / m\n",
    "    delta2[:,1:] = delta2[:,1:] + (theta2[:,1:] * learning_rate) / m\n",
    "    \n",
    "    # unravel the gradient matrices into a single array\n",
    "    grad = np.concatenate((np.ravel(delta1), np.ravel(delta2)))\n",
    "    \n",
    "    return J, grad"
   ]
  },
  {
   "cell_type": "code",
   "execution_count": 547,
   "metadata": {},
   "outputs": [
    {
     "data": {
      "text/plain": [
       "((50, 138), (5, 51))"
      ]
     },
     "execution_count": 547,
     "metadata": {},
     "output_type": "execute_result"
    }
   ],
   "source": [
    "# initial setup\n",
    "input_size = ls_train.shape[1]\n",
    "hidden_size = 50\n",
    "num_labels = y_onehot_train.shape[1]\n",
    "learning_rate = 0.4\n",
    "\n",
    "# randomly initialize a parameter array of the size of the full network's parameters\n",
    "params = (np.random.random(size=hidden_size * (input_size + 1) + num_labels * (hidden_size + 1)) - 0.5) * 0.25\n",
    "\n",
    "m = ls_train.shape[0]\n",
    "ls_train = np.matrix(ls_train)\n",
    "\n",
    "# unravel the parameter array into parameter matrices for each layer\n",
    "theta1 = np.matrix(np.reshape(params[:hidden_size * (input_size + 1)], (hidden_size, (input_size + 1))))\n",
    "theta2 = np.matrix(np.reshape(params[hidden_size * (input_size + 1):], (num_labels, (hidden_size + 1))))\n",
    "\n",
    "theta1.shape, theta2.shape "
   ]
  },
  {
   "cell_type": "code",
   "execution_count": 548,
   "metadata": {},
   "outputs": [
    {
     "name": "stdout",
     "output_type": "stream",
     "text": [
      "[[0.15266975 0.18315737 0.11304816 0.25140902 0.29971569]\n",
      " [0.13316876 0.18511417 0.11953446 0.23366211 0.3285205 ]\n",
      " [0.14420103 0.17648031 0.12747741 0.26561103 0.28623022]\n",
      " ...\n",
      " [0.1563142  0.18185399 0.11840361 0.26837421 0.27505398]\n",
      " [0.15368746 0.17253105 0.12692064 0.23943433 0.30742652]\n",
      " [0.15179992 0.18978624 0.11880342 0.24297405 0.29663637]]\n",
      "2.578164111854486\n"
     ]
    },
    {
     "data": {
      "text/plain": [
       "0.1992052695009525"
      ]
     },
     "execution_count": 548,
     "metadata": {},
     "output_type": "execute_result"
    }
   ],
   "source": [
    "a1, z2, a2, z3, h = forward_propagate(ls_train, theta1, theta2)\n",
    "a1.shape, z2.shape, a2.shape, z3.shape, h.shape\n",
    "print(h)\n",
    "print(cost(params, input_size, hidden_size, num_labels, ls_train, y_onehot_train, learning_rate))\n",
    "get_accuracy(h, y_train)\n"
   ]
  },
  {
   "cell_type": "code",
   "execution_count": 549,
   "metadata": {},
   "outputs": [
    {
     "data": {
      "text/plain": [
       "(2.578164111854486, (7155,))"
      ]
     },
     "execution_count": 549,
     "metadata": {},
     "output_type": "execute_result"
    }
   ],
   "source": [
    "J, grad = backprop(params, input_size, hidden_size, num_labels, ls_train, y_onehot_train, learning_rate)\n",
    "J, grad.shape"
   ]
  },
  {
   "cell_type": "code",
   "execution_count": 551,
   "metadata": {},
   "outputs": [
    {
     "data": {
      "text/plain": [
       "     fun: 0.1935884542158433\n",
       "     jac: array([-1.75912291e-04,  1.80711725e-04,  1.77996890e-04, ...,\n",
       "        2.56811504e-05,  8.81933335e-05, -2.88141052e-05])\n",
       " message: 'Max. number of function evaluations reached'\n",
       "    nfev: 250\n",
       "     nit: 19\n",
       "  status: 3\n",
       " success: False\n",
       "       x: array([-0.06376093, -0.21276501, -0.23442981, ...,  1.84576078,\n",
       "        1.99751689,  1.07154924])"
      ]
     },
     "execution_count": 551,
     "metadata": {},
     "output_type": "execute_result"
    }
   ],
   "source": [
    "from scipy.optimize import minimize\n",
    "\n",
    "# minimize the objective function\n",
    "fmin = minimize(fun=backprop, x0=params, args=(input_size, hidden_size, num_labels, ls_train, y_onehot_train, learning_rate), \n",
    "                method='TNC', jac=True, options={'maxiter': 250})\n",
    "fmin"
   ]
  },
  {
   "cell_type": "code",
   "execution_count": 534,
   "metadata": {
    "scrolled": false
   },
   "outputs": [
    {
     "name": "stdout",
     "output_type": "stream",
     "text": [
      "0.965101202195832\n"
     ]
    }
   ],
   "source": [
    "ls_train = np.matrix(ls_train)\n",
    "theta1 = np.matrix(np.reshape(fmin.x[:hidden_size * (input_size + 1)], (hidden_size, (input_size + 1))))\n",
    "theta2 = np.matrix(np.reshape(fmin.x[hidden_size * (input_size + 1):], (num_labels, (hidden_size + 1))))\n",
    "\n",
    "a1, z2, a2, z3, h = forward_propagate(ls_train, theta1, theta2)\n",
    "# y_pred_train = np.array(np.argmax(h, axis=1) + 1)\n",
    "accuracy = get_accuracy(h, y_train)\n",
    "print(accuracy)\n"
   ]
  },
  {
   "cell_type": "code",
   "execution_count": 535,
   "metadata": {},
   "outputs": [
    {
     "name": "stdout",
     "output_type": "stream",
     "text": [
      "0.6156008780946396\n"
     ]
    }
   ],
   "source": [
    "ls_test = np.matrix(ls_test)\n",
    "\n",
    "a1, z2, a2, z3, h = forward_propagate(ls_test, theta1, theta2)\n",
    "# y_pred = np.array(np.argmax(h, axis=1) + 1)\n",
    "\n",
    "accuracy = get_accuracy(h, y_test)\n",
    "# print(h[0])\n",
    "print(accuracy)\n",
    "if accuracy > 0.64:\n",
    "    print(\"hey\")\n",
    "    thetas = []\n",
    "    thetas.append(theta1)\n",
    "    thetas.append(theta2)\n",
    "    np.save('weights', thetas)"
   ]
  },
  {
   "cell_type": "code",
   "execution_count": 367,
   "metadata": {},
   "outputs": [],
   "source": [
    "# correct = [1 if a == b else 0 for (a, b) in zip(y_pred_train, y_train)]\n",
    "# accuracy = (sum(map(int, correct)) / float(len(correct)))\n",
    "# print(accuracy)"
   ]
  },
  {
   "cell_type": "code",
   "execution_count": 368,
   "metadata": {
    "scrolled": true
   },
   "outputs": [],
   "source": [
    "# correct = [1 if a == b else 0 for (a, b) in zip(y_pred, y_test)]\n",
    "# accuracy = (sum(map(int, correct)) / float(len(correct)))\n",
    "# print(accuracy)"
   ]
  },
  {
   "cell_type": "markdown",
   "metadata": {},
   "source": [
    "# ჩაწერა-წაკითხვა"
   ]
  },
  {
   "cell_type": "code",
   "execution_count": 369,
   "metadata": {},
   "outputs": [],
   "source": [
    "# thetas = []\n",
    "# thetas.append(theta1)\n",
    "# thetas.append(theta2)\n",
    "# np.save('weights', thetas)\n",
    "# theta1, theta2 = np.load('weights.npy', allow_pickle = True)\n"
   ]
  },
  {
   "cell_type": "markdown",
   "metadata": {},
   "source": [
    "# გვჭირდება !pip install XlsxWriter"
   ]
  },
  {
   "cell_type": "code",
   "execution_count": 590,
   "metadata": {},
   "outputs": [],
   "source": [
    "import xlsxwriter\n",
    "workbook = xlsxwriter.Workbook(\"result.xlsx\")\n",
    "worksheet = workbook.add_worksheet()\n",
    "row = 0 \n",
    "col = 0\n",
    "\n",
    "\n",
    "for name in authors:\n",
    "    worksheet.write(row, col, name[0])\n",
    "    for a, b, c, d, e in h:\n",
    "        worksheet.write(row, col+1, a)\n",
    "        worksheet.write(row, col+2, b)\n",
    "        worksheet.write(row, col+3, c)\n",
    "        worksheet.write(row, col+4, d)\n",
    "        worksheet.write(row, col+5, e)\n",
    "    row+=1\n",
    "    \n",
    "workbook.close()"
   ]
  },
  {
   "cell_type": "code",
   "execution_count": null,
   "metadata": {},
   "outputs": [],
   "source": []
  }
 ],
 "metadata": {
  "kernelspec": {
   "display_name": "Python 3",
   "language": "python",
   "name": "python3"
  },
  "language_info": {
   "codemirror_mode": {
    "name": "ipython",
    "version": 3
   },
   "file_extension": ".py",
   "mimetype": "text/x-python",
   "name": "python",
   "nbconvert_exporter": "python",
   "pygments_lexer": "ipython3",
   "version": "3.7.4"
  }
 },
 "nbformat": 4,
 "nbformat_minor": 2
}
