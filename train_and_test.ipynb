{
 "cells": [
  {
   "cell_type": "code",
   "execution_count": 3,
   "metadata": {},
   "outputs": [],
   "source": [
    "import glob\n",
    "import os\n",
    "from pydub import AudioSegment"
   ]
  },
  {
   "cell_type": "code",
   "execution_count": 4,
   "metadata": {},
   "outputs": [],
   "source": [
    "import pandas as pd\n",
    "import librosa\n",
    "import librosa.display"
   ]
  },
  {
   "cell_type": "code",
   "execution_count": 5,
   "metadata": {},
   "outputs": [],
   "source": [
    "import numpy as np\n",
    "\n",
    "def get_features(file_name):\n",
    "    try:\n",
    "        audio, sample_rate = librosa.load(file_name, res_type='kaiser_fast') \n",
    "        mfccs = get_mfcc(audio, sample_rate)\n",
    "        flux = get_spectral_features(audio, sample_rate)[2]\n",
    "#         zero_crossing_rate = get_zero_crossing_rate(audio)\n",
    "#         spectral_features = get_spectral_features(audio, sample_rate)\n",
    "        chroma_features = get_chroma_features(audio, sample_rate)\n",
    "        return [mfccs, flux] + chroma_features\n",
    "    except Exception as e:\n",
    "        print(\"Error encountered while parsing file: \", file)\n",
    "        return None"
   ]
  },
  {
   "cell_type": "code",
   "execution_count": 6,
   "metadata": {},
   "outputs": [],
   "source": [
    "def get_all_features(folder):\n",
    "    folders = os.listdir(folder)\n",
    "    folders.sort()\n",
    "    all_features = []\n",
    "    for label, sub_dir in enumerate(folders): #label {0; 4}\n",
    "        for file_name in glob.glob(os.getcwd() + '/' + folder +'/' + sub_dir + '/*.wav'):\n",
    "#             print(\"Extracting file \", file_name)\n",
    "            try:\n",
    "                features = get_features(file_name)\n",
    "            except Exception as e:\n",
    "                print(\"Extraction error\")\n",
    "                continue\n",
    "            all_features.append(features +  [label + 1])\n",
    "    data = pd.DataFrame(all_features, columns=['mfccs', 'flux', 'chroma_features1', 'chroma_features2', 'chroma_features3', 'class_label'])\n",
    "    return data"
   ]
  },
  {
   "cell_type": "code",
   "execution_count": 66,
   "metadata": {},
   "outputs": [],
   "source": [
    "def get_mfcc(audio, sr):\n",
    "    #Mel Frequency Cepstral Coefficient\n",
    "    mfccs = librosa.feature.mfcc(y=audio, sr=sr, n_mfcc=100)\n",
    "    mfccs_scaled = np.mean(mfccs.T,axis=0)\n",
    "#     mfccs - (40, სხვადასხვა), mfccsscaled - (40,)\n",
    "    return mfccs_scaled"
   ]
  },
  {
   "cell_type": "code",
   "execution_count": 67,
   "metadata": {},
   "outputs": [],
   "source": [
    "def get_zero_crossing_rate(audio):\n",
    "    #ZERO_CROSSING_RATE\n",
    "    rate = librosa.feature.zero_crossing_rate(audio)\n",
    "    rate_scaled = np.mean(rate.T,axis=0)\n",
    "#     rate - (1, სხვადასხვა)\n",
    "    return rate_scaled"
   ]
  },
  {
   "cell_type": "code",
   "execution_count": 68,
   "metadata": {},
   "outputs": [],
   "source": [
    "def get_spectral_features(audio, sr):\n",
    "    sp = librosa.feature.spectral_centroid(audio)\n",
    "    S, phase = librosa.magphase(librosa.stft(audio))\n",
    "    a = librosa.feature.spectral_rolloff(S=S, sr=sr)\n",
    "    onset_env = librosa.onset.onset_strength(y=audio, sr=sr)\n",
    "    onset_env.shape = (onset_env.shape[0], 1)\n",
    "    sp_scaled = np.mean(sp.T,axis=0)\n",
    "    a_scaled = np.mean(a.T,axis=0)\n",
    "    onset_env_scaled = np.mean(onset_env,axis=0)\n",
    "    return [sp_scaled, a_scaled, onset_env_scaled]"
   ]
  },
  {
   "cell_type": "code",
   "execution_count": 69,
   "metadata": {},
   "outputs": [],
   "source": [
    "def get_chroma_features(audio, sr):    \n",
    "    # Chroma features (needs scaling)\n",
    "    chroma_stft = librosa.feature.chroma_stft(y=audio, sr=sr) #N1\n",
    "    chroma_cens = librosa.feature.chroma_cens(y=audio, sr=sr) #Chroma energy normalized statistics\n",
    "    chroma_cq = librosa.feature.chroma_cqt(y=audio, sr=sr)\n",
    "#     samive - (12, სხვადასხვა)\n",
    "    chroma_stft_scaled = np.mean(chroma_stft.T,axis=0)\n",
    "    chroma_cens_scaled = np.mean(chroma_cens.T,axis=0)\n",
    "    chroma_cq_scaled = np.mean(chroma_cq.T,axis=0)\n",
    "    return [chroma_stft_scaled, chroma_cens_scaled, chroma_cq_scaled]"
   ]
  },
  {
   "cell_type": "code",
   "execution_count": 70,
   "metadata": {},
   "outputs": [],
   "source": [
    "def get_pitch(audio, sr):\n",
    "    # Pitch (needs scaling)\n",
    "    pitches, magnitudes = librosa.piptrack(y=audio, sr=sr)\n",
    "#     pitches - (1025, სხვადასხვა)\n",
    "    pitches_scaled = np.mean(pitches.T,axis=0)\n",
    "    return pitches_scaled"
   ]
  },
  {
   "cell_type": "code",
   "execution_count": 71,
   "metadata": {},
   "outputs": [],
   "source": [
    "data = get_all_features('data')"
   ]
  },
  {
   "cell_type": "code",
   "execution_count": 142,
   "metadata": {},
   "outputs": [
    {
     "data": {
      "text/html": [
       "<div>\n",
       "<style scoped>\n",
       "    .dataframe tbody tr th:only-of-type {\n",
       "        vertical-align: middle;\n",
       "    }\n",
       "\n",
       "    .dataframe tbody tr th {\n",
       "        vertical-align: top;\n",
       "    }\n",
       "\n",
       "    .dataframe thead th {\n",
       "        text-align: right;\n",
       "    }\n",
       "</style>\n",
       "<table border=\"1\" class=\"dataframe\">\n",
       "  <thead>\n",
       "    <tr style=\"text-align: right;\">\n",
       "      <th></th>\n",
       "      <th>mfccs</th>\n",
       "      <th>flux</th>\n",
       "      <th>chroma_features1</th>\n",
       "      <th>chroma_features2</th>\n",
       "      <th>chroma_features3</th>\n",
       "      <th>class_label</th>\n",
       "    </tr>\n",
       "  </thead>\n",
       "  <tbody>\n",
       "    <tr>\n",
       "      <td>0</td>\n",
       "      <td>[-611.8136, 40.777424, 12.620239, 20.898668, 1...</td>\n",
       "      <td>[1.0362669]</td>\n",
       "      <td>[0.4842381, 0.44837013, 0.41868302, 0.38146535...</td>\n",
       "      <td>[0.2662793381049647, 0.25075628730815097, 0.22...</td>\n",
       "      <td>[0.5629649, 0.49578902, 0.47771728, 0.42898136...</td>\n",
       "      <td>4</td>\n",
       "    </tr>\n",
       "    <tr>\n",
       "      <td>1</td>\n",
       "      <td>[-483.8801, 67.22944, -3.035094, 23.410534, 10...</td>\n",
       "      <td>[1.2832025]</td>\n",
       "      <td>[0.5137478, 0.35476452, 0.25112936, 0.2839159,...</td>\n",
       "      <td>[0.39973669152152785, 0.34634047732841317, 0.1...</td>\n",
       "      <td>[0.77134436, 0.6558588, 0.44797945, 0.49658856...</td>\n",
       "      <td>5</td>\n",
       "    </tr>\n",
       "    <tr>\n",
       "      <td>2</td>\n",
       "      <td>[-529.7939, 111.131096, 24.161963, 41.378025, ...</td>\n",
       "      <td>[0.97019327]</td>\n",
       "      <td>[0.26051733, 0.30142537, 0.2903194, 0.2532308,...</td>\n",
       "      <td>[0.135444049117274, 0.17529732278287938, 0.180...</td>\n",
       "      <td>[0.32595995, 0.3542648, 0.34927756, 0.32550025...</td>\n",
       "      <td>2</td>\n",
       "    </tr>\n",
       "    <tr>\n",
       "      <td>3</td>\n",
       "      <td>[-524.6342, 69.502625, 10.729943, 26.06364, 7....</td>\n",
       "      <td>[1.5747317]</td>\n",
       "      <td>[0.64704764, 0.6812321, 0.6889332, 0.64720935,...</td>\n",
       "      <td>[0.3859249430913798, 0.44412299170113206, 0.35...</td>\n",
       "      <td>[0.7365093, 0.85648644, 0.69298464, 0.5742491,...</td>\n",
       "      <td>4</td>\n",
       "    </tr>\n",
       "    <tr>\n",
       "      <td>4</td>\n",
       "      <td>[-551.78143, 107.96993, 17.979797, 14.39397, 1...</td>\n",
       "      <td>[1.0554308]</td>\n",
       "      <td>[0.46269706, 0.52385974, 0.5351941, 0.59048325...</td>\n",
       "      <td>[0.3333913937522035, 0.3589864045660255, 0.313...</td>\n",
       "      <td>[0.70506465, 0.73798627, 0.66210145, 0.6403810...</td>\n",
       "      <td>5</td>\n",
       "    </tr>\n",
       "    <tr>\n",
       "      <td>...</td>\n",
       "      <td>...</td>\n",
       "      <td>...</td>\n",
       "      <td>...</td>\n",
       "      <td>...</td>\n",
       "      <td>...</td>\n",
       "      <td>...</td>\n",
       "    </tr>\n",
       "    <tr>\n",
       "      <td>933</td>\n",
       "      <td>[-509.2625, 96.30729, 13.490375, 19.20398, 6.8...</td>\n",
       "      <td>[1.2931988]</td>\n",
       "      <td>[0.37592518, 0.34144098, 0.377211, 0.39135712,...</td>\n",
       "      <td>[0.28603218673667047, 0.23617766442427635, 0.2...</td>\n",
       "      <td>[0.592766, 0.49719438, 0.43252078, 0.42320997,...</td>\n",
       "      <td>1</td>\n",
       "    </tr>\n",
       "    <tr>\n",
       "      <td>934</td>\n",
       "      <td>[-525.10944, 98.93431, -8.021024, 20.28867, -8...</td>\n",
       "      <td>[1.5247883]</td>\n",
       "      <td>[0.49913427, 0.28826502, 0.20493266, 0.1747037...</td>\n",
       "      <td>[0.47062531551012093, 0.339033196969182, 0.199...</td>\n",
       "      <td>[0.76767975, 0.5960087, 0.4140232, 0.36414152,...</td>\n",
       "      <td>2</td>\n",
       "    </tr>\n",
       "    <tr>\n",
       "      <td>935</td>\n",
       "      <td>[-374.46118, 87.18423, 14.456073, 25.931875, 1...</td>\n",
       "      <td>[1.0921358]</td>\n",
       "      <td>[0.6858864, 0.7387477, 0.6847408, 0.65038735, ...</td>\n",
       "      <td>[0.39391395897289844, 0.4267180250345143, 0.37...</td>\n",
       "      <td>[0.8094848, 0.86993295, 0.75949717, 0.66599727...</td>\n",
       "      <td>5</td>\n",
       "    </tr>\n",
       "    <tr>\n",
       "      <td>936</td>\n",
       "      <td>[-549.74994, 80.772, 37.733208, 32.31267, 18.5...</td>\n",
       "      <td>[0.85393745]</td>\n",
       "      <td>[0.60667306, 0.5226306, 0.50657195, 0.5327808,...</td>\n",
       "      <td>[0.3626017982974113, 0.2484315618862962, 0.215...</td>\n",
       "      <td>[0.7378085, 0.5837045, 0.54220885, 0.58441585,...</td>\n",
       "      <td>2</td>\n",
       "    </tr>\n",
       "    <tr>\n",
       "      <td>937</td>\n",
       "      <td>[-585.6591, 55.085415, 19.916815, 28.01698, 18...</td>\n",
       "      <td>[0.64423406]</td>\n",
       "      <td>[0.4715139, 0.4982053, 0.5303699, 0.5360789, 0...</td>\n",
       "      <td>[0.460131595917614, 0.5025079416638351, 0.4269...</td>\n",
       "      <td>[0.7773231, 0.82862973, 0.6544318, 0.47516227,...</td>\n",
       "      <td>2</td>\n",
       "    </tr>\n",
       "  </tbody>\n",
       "</table>\n",
       "<p>938 rows × 6 columns</p>\n",
       "</div>"
      ],
      "text/plain": [
       "                                                 mfccs          flux  \\\n",
       "0    [-611.8136, 40.777424, 12.620239, 20.898668, 1...   [1.0362669]   \n",
       "1    [-483.8801, 67.22944, -3.035094, 23.410534, 10...   [1.2832025]   \n",
       "2    [-529.7939, 111.131096, 24.161963, 41.378025, ...  [0.97019327]   \n",
       "3    [-524.6342, 69.502625, 10.729943, 26.06364, 7....   [1.5747317]   \n",
       "4    [-551.78143, 107.96993, 17.979797, 14.39397, 1...   [1.0554308]   \n",
       "..                                                 ...           ...   \n",
       "933  [-509.2625, 96.30729, 13.490375, 19.20398, 6.8...   [1.2931988]   \n",
       "934  [-525.10944, 98.93431, -8.021024, 20.28867, -8...   [1.5247883]   \n",
       "935  [-374.46118, 87.18423, 14.456073, 25.931875, 1...   [1.0921358]   \n",
       "936  [-549.74994, 80.772, 37.733208, 32.31267, 18.5...  [0.85393745]   \n",
       "937  [-585.6591, 55.085415, 19.916815, 28.01698, 18...  [0.64423406]   \n",
       "\n",
       "                                      chroma_features1  \\\n",
       "0    [0.4842381, 0.44837013, 0.41868302, 0.38146535...   \n",
       "1    [0.5137478, 0.35476452, 0.25112936, 0.2839159,...   \n",
       "2    [0.26051733, 0.30142537, 0.2903194, 0.2532308,...   \n",
       "3    [0.64704764, 0.6812321, 0.6889332, 0.64720935,...   \n",
       "4    [0.46269706, 0.52385974, 0.5351941, 0.59048325...   \n",
       "..                                                 ...   \n",
       "933  [0.37592518, 0.34144098, 0.377211, 0.39135712,...   \n",
       "934  [0.49913427, 0.28826502, 0.20493266, 0.1747037...   \n",
       "935  [0.6858864, 0.7387477, 0.6847408, 0.65038735, ...   \n",
       "936  [0.60667306, 0.5226306, 0.50657195, 0.5327808,...   \n",
       "937  [0.4715139, 0.4982053, 0.5303699, 0.5360789, 0...   \n",
       "\n",
       "                                      chroma_features2  \\\n",
       "0    [0.2662793381049647, 0.25075628730815097, 0.22...   \n",
       "1    [0.39973669152152785, 0.34634047732841317, 0.1...   \n",
       "2    [0.135444049117274, 0.17529732278287938, 0.180...   \n",
       "3    [0.3859249430913798, 0.44412299170113206, 0.35...   \n",
       "4    [0.3333913937522035, 0.3589864045660255, 0.313...   \n",
       "..                                                 ...   \n",
       "933  [0.28603218673667047, 0.23617766442427635, 0.2...   \n",
       "934  [0.47062531551012093, 0.339033196969182, 0.199...   \n",
       "935  [0.39391395897289844, 0.4267180250345143, 0.37...   \n",
       "936  [0.3626017982974113, 0.2484315618862962, 0.215...   \n",
       "937  [0.460131595917614, 0.5025079416638351, 0.4269...   \n",
       "\n",
       "                                      chroma_features3  class_label  \n",
       "0    [0.5629649, 0.49578902, 0.47771728, 0.42898136...            4  \n",
       "1    [0.77134436, 0.6558588, 0.44797945, 0.49658856...            5  \n",
       "2    [0.32595995, 0.3542648, 0.34927756, 0.32550025...            2  \n",
       "3    [0.7365093, 0.85648644, 0.69298464, 0.5742491,...            4  \n",
       "4    [0.70506465, 0.73798627, 0.66210145, 0.6403810...            5  \n",
       "..                                                 ...          ...  \n",
       "933  [0.592766, 0.49719438, 0.43252078, 0.42320997,...            1  \n",
       "934  [0.76767975, 0.5960087, 0.4140232, 0.36414152,...            2  \n",
       "935  [0.8094848, 0.86993295, 0.75949717, 0.66599727...            5  \n",
       "936  [0.7378085, 0.5837045, 0.54220885, 0.58441585,...            2  \n",
       "937  [0.7773231, 0.82862973, 0.6544318, 0.47516227,...            2  \n",
       "\n",
       "[938 rows x 6 columns]"
      ]
     },
     "execution_count": 142,
     "metadata": {},
     "output_type": "execute_result"
    }
   ],
   "source": [
    "data = data.sample(frac=1).reset_index(drop=True)\n",
    "data"
   ]
  },
  {
   "cell_type": "code",
   "execution_count": 143,
   "metadata": {},
   "outputs": [
    {
     "name": "stdout",
     "output_type": "stream",
     "text": [
      "(844, 6) (94, 6) (844, 1) (94, 1)\n"
     ]
    }
   ],
   "source": [
    "from sklearn.model_selection import train_test_split \n",
    "labels = [[i] for i in data['class_label']]\n",
    "# testLabels = [[i] for i in testData['class_label']]\n",
    "# y_train = np.array(labels)\n",
    "# y_test = np.array(testLabels)\n",
    "\n",
    "x_train, x_test, y_train, y_test = train_test_split(data, np.array(labels), test_size=0.1, random_state = 127)\n",
    "print(x_train.shape, x_test.shape, y_train.shape, y_test.shape)"
   ]
  },
  {
   "cell_type": "markdown",
   "metadata": {},
   "source": [
    "# One-hot encode"
   ]
  },
  {
   "cell_type": "code",
   "execution_count": 144,
   "metadata": {},
   "outputs": [],
   "source": [
    "from sklearn.preprocessing import OneHotEncoder\n",
    "def get_one_hot(y):\n",
    "    encoder = OneHotEncoder(sparse=False)\n",
    "    y_onehot = encoder.fit_transform(y)\n",
    "    return y_onehot"
   ]
  },
  {
   "cell_type": "code",
   "execution_count": 145,
   "metadata": {},
   "outputs": [
    {
     "name": "stdout",
     "output_type": "stream",
     "text": [
      "(844, 5) (94, 5)\n"
     ]
    },
    {
     "name": "stderr",
     "output_type": "stream",
     "text": [
      "/home/mariam/anaconda3/envs/ml/lib/python3.7/site-packages/sklearn/preprocessing/_encoders.py:415: FutureWarning: The handling of integer data will change in version 0.22. Currently, the categories are determined based on the range [0, max(values)], while in the future they will be determined based on the unique values.\n",
      "If you want the future behaviour and silence this warning, you can specify \"categories='auto'\".\n",
      "In case you used a LabelEncoder before this OneHotEncoder to convert the categories to integers, then you can now use the OneHotEncoder directly.\n",
      "  warnings.warn(msg, FutureWarning)\n",
      "/home/mariam/anaconda3/envs/ml/lib/python3.7/site-packages/sklearn/preprocessing/_encoders.py:415: FutureWarning: The handling of integer data will change in version 0.22. Currently, the categories are determined based on the range [0, max(values)], while in the future they will be determined based on the unique values.\n",
      "If you want the future behaviour and silence this warning, you can specify \"categories='auto'\".\n",
      "In case you used a LabelEncoder before this OneHotEncoder to convert the categories to integers, then you can now use the OneHotEncoder directly.\n",
      "  warnings.warn(msg, FutureWarning)\n"
     ]
    }
   ],
   "source": [
    "y_onehot_train = get_one_hot(y_train)\n",
    "y_onehot_test = get_one_hot(y_test)\n",
    "print(y_onehot_train.shape, y_onehot_test.shape)"
   ]
  },
  {
   "cell_type": "markdown",
   "metadata": {},
   "source": [
    "# PCA"
   ]
  },
  {
   "cell_type": "code",
   "execution_count": 146,
   "metadata": {},
   "outputs": [],
   "source": [
    "def pca(X):\n",
    "    # normalize the features\n",
    "    X = (X - X.mean()) / X.std()\n",
    "    \n",
    "    # compute the covariance matrix\n",
    "    X = np.matrix(X)\n",
    "    cov = (X.T * X) / X.shape[0]\n",
    "    \n",
    "    # perform SVD\n",
    "    U, S, V = np.linalg.svd(cov)\n",
    "    \n",
    "    return U, S, V"
   ]
  },
  {
   "cell_type": "code",
   "execution_count": 147,
   "metadata": {},
   "outputs": [],
   "source": [
    "def project_data(X, U, k):\n",
    "    U_reduced = U[:,:k]\n",
    "    return np.dot(X, U_reduced)"
   ]
  },
  {
   "cell_type": "code",
   "execution_count": 148,
   "metadata": {},
   "outputs": [],
   "source": [
    "# def recover_data(Z, U, k):\n",
    "#     U_reduced = U[:,:k]\n",
    "#     return np.dot(Z, U_reduced.T)"
   ]
  },
  {
   "cell_type": "markdown",
   "metadata": {},
   "source": [
    "# აქ გვინდა რომ ყველა ფიჩერზე გვქონდეს წვდომა და მაგიტომ ამოღებისას უნდა შევცვალოთ როგორცაა შენახული დანარჩენი არაფრის შეცვლა არ მოგვიწევს"
   ]
  },
  {
   "cell_type": "code",
   "execution_count": 149,
   "metadata": {},
   "outputs": [],
   "source": [
    "def get_processed_X(x):\n",
    "    X = x.drop(columns=['class_label'])\n",
    "    X = X.values\n",
    "    ls = [] #featurebi gvinda da magitom\n",
    "    for i in range(X.shape[0]):\n",
    "        features = []\n",
    "        for j in range(X.shape[1]):\n",
    "            for k in X[i][j]:\n",
    "                features.append(k)\n",
    "        ls.append(features)\n",
    "    res = np.array(ls)\n",
    "    return res"
   ]
  },
  {
   "cell_type": "code",
   "execution_count": 150,
   "metadata": {},
   "outputs": [
    {
     "name": "stdout",
     "output_type": "stream",
     "text": [
      "(844, 137) (94, 137)\n"
     ]
    }
   ],
   "source": [
    "ls_train = get_processed_X(x_train)\n",
    "ls_test = get_processed_X(x_test)\n",
    "print(ls_train.shape, ls_test.shape)"
   ]
  },
  {
   "cell_type": "code",
   "execution_count": 151,
   "metadata": {},
   "outputs": [],
   "source": [
    "k = 500\n",
    "U, S, V = pca(ls_train)\n",
    "ls_train = project_data(ls_train, U, k)\n",
    "U1, S1, V1 = pca(ls_test)\n",
    "ls_test = project_data(ls_test, U, k)"
   ]
  },
  {
   "cell_type": "markdown",
   "metadata": {},
   "source": [
    " # ნეირონული ქსელის კოდი"
   ]
  },
  {
   "cell_type": "code",
   "execution_count": 152,
   "metadata": {},
   "outputs": [],
   "source": [
    "def sigmoid(z):\n",
    "    return 1 / (1 + np.exp(-z))"
   ]
  },
  {
   "cell_type": "code",
   "execution_count": 153,
   "metadata": {},
   "outputs": [],
   "source": [
    "import math\n",
    "\n",
    "def softmax(z):\n",
    "    z_exp = [math.exp(i) for i in z]\n",
    "    sum_z_exp = sum(z_exp)\n",
    "    return [i / sum_z_exp for i in z_exp]"
   ]
  },
  {
   "cell_type": "code",
   "execution_count": 154,
   "metadata": {},
   "outputs": [],
   "source": [
    "def forward_propagate(X, theta1, theta2):\n",
    "    m = X.shape[0]\n",
    "    \n",
    "    a1 = np.insert(X, 0, values=np.ones(m), axis=1)\n",
    "    z2 = a1 * theta1.T\n",
    "    a2 = np.insert(sigmoid(z2), 0, values=np.ones(m), axis=1)\n",
    "    z3 = a2 * theta2.T\n",
    "    h = []\n",
    "    for i in range(z3.shape[0]):\n",
    "        z = [z3[i, j] for j in range(z3.shape[1])]\n",
    "        h.append(softmax(z))\n",
    "    h = np.array(h)\n",
    "#     h = sigmoid(z3)\n",
    "    return a1, z2, a2, z3, h"
   ]
  },
  {
   "cell_type": "code",
   "execution_count": 155,
   "metadata": {},
   "outputs": [],
   "source": [
    "def cost(params, input_size, hidden_size, num_labels, X, y, learning_rate):\n",
    "    m = X.shape[0]\n",
    "    X = np.matrix(X)\n",
    "    y = np.matrix(y)\n",
    "    # reshape the parameter array into parameter matrices for each layer\n",
    "    theta1 = np.matrix(np.reshape(params[:hidden_size * (input_size + 1)], (hidden_size, (input_size + 1))))\n",
    "    theta2 = np.matrix(np.reshape(params[hidden_size * (input_size + 1):], (num_labels, (hidden_size + 1))))\n",
    "    \n",
    "    # run the feed-forward pass\n",
    "    a1, z2, a2, z3, h = forward_propagate(X, theta1, theta2)\n",
    "\n",
    "#     J = (-1 / m) * np.sum(y * np.log(h).T) #softmax\n",
    "    # compute the cost\n",
    "    J = 0\n",
    "    for i in range(m):\n",
    "        first_term = np.multiply(-y[i,:], np.log(h[i,:]))\n",
    "        second_term = np.multiply((1 - y[i,:]), np.log(1 - h[i,:]))\n",
    "        J += np.sum(first_term - second_term)\n",
    "    \n",
    "    J = J / m\n",
    "    \n",
    "    # add the cost regularization term\n",
    "    J += (float(learning_rate) / (2 * m)) * (np.sum(np.power(theta1[:,1:], 2)) + np.sum(np.power(theta2[:,1:], 2)))\n",
    "    \n",
    "    return J"
   ]
  },
  {
   "cell_type": "code",
   "execution_count": 156,
   "metadata": {},
   "outputs": [],
   "source": [
    "def sigmoid_gradient(z):\n",
    "    return np.multiply(sigmoid(z), (1 - sigmoid(z)))"
   ]
  },
  {
   "cell_type": "code",
   "execution_count": 157,
   "metadata": {},
   "outputs": [],
   "source": [
    "def backprop(params, input_size, hidden_size, num_labels, X, y, learning_rate):\n",
    "    m = X.shape[0]\n",
    "    X = np.matrix(X)\n",
    "    y = np.matrix(y)\n",
    "    \n",
    "    # reshape the parameter array into parameter matrices for each layer\n",
    "    theta1 = np.matrix(np.reshape(params[:hidden_size * (input_size + 1)], (hidden_size, (input_size + 1))))\n",
    "    theta2 = np.matrix(np.reshape(params[hidden_size * (input_size + 1):], (num_labels, (hidden_size + 1))))\n",
    "    \n",
    "    # run the feed-forward pass\n",
    "    a1, z2, a2, z3, h = forward_propagate(X, theta1, theta2)\n",
    "    \n",
    "    # initializations\n",
    "    J = 0\n",
    "    delta1 = np.zeros(theta1.shape)  # (25, 401)\n",
    "    delta2 = np.zeros(theta2.shape)  # (10, 26)\n",
    "    \n",
    "    J = cost(params,input_size, hidden_size, num_labels, X, y, learning_rate)\n",
    "\n",
    "    # perform backpropagation\n",
    "    for t in range(m):\n",
    "        a1t = a1[t,:]  # (1, 401)\n",
    "        z2t = z2[t,:]  # (1, 25)\n",
    "        a2t = a2[t,:]  # (1, 26)\n",
    "        ht = h[t,:]  # (1, 10)\n",
    "        yt = y[t,:]  # (1, 10)\n",
    "        \n",
    "        d3t = ht - yt  # (1, 10)\n",
    "        \n",
    "        z2t = np.insert(z2t, 0, values=np.ones(1))  # (1, 26)\n",
    "        d2t = np.multiply((theta2.T * d3t.T).T, sigmoid_gradient(z2t))  # (1, 26)\n",
    "        \n",
    "        delta1 = delta1 + (d2t[:,1:]).T * a1t\n",
    "        delta2 = delta2 + d3t.T * a2t\n",
    "        \n",
    "    delta1 = delta1 / m\n",
    "    delta2 = delta2 / m\n",
    "    \n",
    "    # add the gradient regularization term\n",
    "    delta1[:,1:] = delta1[:,1:] + (theta1[:,1:] * learning_rate) / m\n",
    "    delta2[:,1:] = delta2[:,1:] + (theta2[:,1:] * learning_rate) / m\n",
    "    \n",
    "    # unravel the gradient matrices into a single array\n",
    "    grad = np.concatenate((np.ravel(delta1), np.ravel(delta2)))\n",
    "    \n",
    "    return J, grad"
   ]
  },
  {
   "cell_type": "code",
   "execution_count": 158,
   "metadata": {},
   "outputs": [
    {
     "data": {
      "text/plain": [
       "((30, 138), (5, 31))"
      ]
     },
     "execution_count": 158,
     "metadata": {},
     "output_type": "execute_result"
    }
   ],
   "source": [
    "# initial setup\n",
    "input_size = ls_train.shape[1]\n",
    "hidden_size = 30\n",
    "num_labels = y_onehot_train.shape[1]\n",
    "learning_rate = 1\n",
    "\n",
    "# randomly initialize a parameter array of the size of the full network's parameters\n",
    "params = (np.random.random(size=hidden_size * (input_size + 1) + num_labels * (hidden_size + 1)) - 0.5) * 0.25\n",
    "\n",
    "m = ls_train.shape[0]\n",
    "ls_train = np.matrix(ls_train)\n",
    "\n",
    "# unravel the parameter array into parameter matrices for each layer\n",
    "theta1 = np.matrix(np.reshape(params[:hidden_size * (input_size + 1)], (hidden_size, (input_size + 1))))\n",
    "theta2 = np.matrix(np.reshape(params[hidden_size * (input_size + 1):], (num_labels, (hidden_size + 1))))\n",
    "\n",
    "theta1.shape, theta2.shape "
   ]
  },
  {
   "cell_type": "code",
   "execution_count": 159,
   "metadata": {},
   "outputs": [
    {
     "name": "stdout",
     "output_type": "stream",
     "text": [
      "[[0.12318941 0.20553901 0.23432169 0.15344757 0.28350231]\n",
      " [0.12620657 0.22003498 0.21971832 0.13558142 0.29845871]\n",
      " [0.12940829 0.21962338 0.22240396 0.13442971 0.29413467]\n",
      " ...\n",
      " [0.1248937  0.20143688 0.2367653  0.14779189 0.28911223]\n",
      " [0.12619905 0.20997429 0.22846577 0.14048264 0.29487824]\n",
      " [0.12135105 0.20048803 0.23579834 0.14608607 0.29627651]]\n",
      "2.5763986528808616\n"
     ]
    }
   ],
   "source": [
    "a1, z2, a2, z3, h = forward_propagate(ls_train, theta1, theta2)\n",
    "a1.shape, z2.shape, a2.shape, z3.shape, h.shape\n",
    "print(h)\n",
    "print(cost(params, input_size, hidden_size, num_labels, ls_train, y_onehot_train, learning_rate))"
   ]
  },
  {
   "cell_type": "code",
   "execution_count": 160,
   "metadata": {},
   "outputs": [
    {
     "data": {
      "text/plain": [
       "(2.5763986528808616, (4295,))"
      ]
     },
     "execution_count": 160,
     "metadata": {},
     "output_type": "execute_result"
    }
   ],
   "source": [
    "J, grad = backprop(params, input_size, hidden_size, num_labels, ls_train, y_onehot_train, learning_rate)\n",
    "J, grad.shape"
   ]
  },
  {
   "cell_type": "code",
   "execution_count": 161,
   "metadata": {},
   "outputs": [
    {
     "name": "stderr",
     "output_type": "stream",
     "text": [
      "/home/mariam/anaconda3/envs/ml/lib/python3.7/site-packages/ipykernel_launcher.py:2: RuntimeWarning: overflow encountered in exp\n",
      "  \n"
     ]
    },
    {
     "data": {
      "text/plain": [
       "     fun: 1.3895781748780511\n",
       "     jac: array([ 2.99945401e-10, -6.67141655e-05,  4.16573090e-05, ...,\n",
       "       -1.79069667e-04, -1.67753319e-04, -4.63298809e-05])\n",
       " message: 'Max. number of function evaluations reached'\n",
       "    nfev: 500\n",
       "     nit: 61\n",
       "  status: 3\n",
       " success: False\n",
       "       x: array([ 0.12204956, -0.0563647 ,  0.03516492, ..., -0.1511348 ,\n",
       "       -0.1415838 , -0.03910242])"
      ]
     },
     "execution_count": 161,
     "metadata": {},
     "output_type": "execute_result"
    }
   ],
   "source": [
    "from scipy.optimize import minimize\n",
    "\n",
    "# minimize the objective function\n",
    "fmin = minimize(fun=backprop, x0=params, args=(input_size, hidden_size, num_labels, ls_train, y_onehot_train, learning_rate), \n",
    "                method='TNC', jac=True, options={'maxiter': 500})\n",
    "fmin"
   ]
  },
  {
   "cell_type": "code",
   "execution_count": 117,
   "metadata": {},
   "outputs": [],
   "source": [
    "ls_train = np.matrix(ls_train)\n",
    "theta1 = np.matrix(np.reshape(fmin.x[:hidden_size * (input_size + 1)], (hidden_size, (input_size + 1))))\n",
    "theta2 = np.matrix(np.reshape(fmin.x[hidden_size * (input_size + 1):], (num_labels, (hidden_size + 1))))\n",
    "\n",
    "a1, z2, a2, z3, h = forward_propagate(ls_train, theta1, theta2)\n",
    "y_pred_train = np.array(np.argmax(h, axis=1) + 1)"
   ]
  },
  {
   "cell_type": "code",
   "execution_count": 118,
   "metadata": {},
   "outputs": [],
   "source": [
    "ls_test = np.matrix(ls_test)\n",
    "\n",
    "a1, z2, a2, z3, h = forward_propagate(ls_test, theta1, theta2)\n",
    "y_pred = np.array(np.argmax(h, axis=1) + 1)"
   ]
  },
  {
   "cell_type": "code",
   "execution_count": 119,
   "metadata": {},
   "outputs": [
    {
     "name": "stdout",
     "output_type": "stream",
     "text": [
      "0.7485970819304153\n"
     ]
    }
   ],
   "source": [
    "correct = [1 if a == b else 0 for (a, b) in zip(y_pred_train, y_train)]\n",
    "accuracy = (sum(map(int, correct)) / float(len(correct)))\n",
    "print(accuracy)"
   ]
  },
  {
   "cell_type": "code",
   "execution_count": 120,
   "metadata": {},
   "outputs": [
    {
     "name": "stdout",
     "output_type": "stream",
     "text": [
      "0.5106382978723404\n"
     ]
    }
   ],
   "source": [
    "correct = [1 if a == b else 0 for (a, b) in zip(y_pred, y_test)]\n",
    "accuracy = (sum(map(int, correct)) / float(len(correct)))\n",
    "print(accuracy)"
   ]
  },
  {
   "cell_type": "markdown",
   "metadata": {},
   "source": [
    "# ჩაწერა-წაკითხვა"
   ]
  },
  {
   "cell_type": "code",
   "execution_count": 36,
   "metadata": {},
   "outputs": [],
   "source": [
    "# thetas = []\n",
    "# thetas.append(theta1)\n",
    "# thetas.append(theta2)\n",
    "# np.save('weights', thetas)\n",
    "# theta1, theta2 = np.load('weights.npy', allow_pickle = True)"
   ]
  }
 ],
 "metadata": {
  "kernelspec": {
   "display_name": "Python 3",
   "language": "python",
   "name": "python3"
  },
  "language_info": {
   "codemirror_mode": {
    "name": "ipython",
    "version": 3
   },
   "file_extension": ".py",
   "mimetype": "text/x-python",
   "name": "python",
   "nbconvert_exporter": "python",
   "pygments_lexer": "ipython3",
   "version": "3.7.4"
  }
 },
 "nbformat": 4,
 "nbformat_minor": 2
}
